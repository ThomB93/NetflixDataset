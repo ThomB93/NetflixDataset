{
  "cells":[
    {
      "cell_type":"code",
      "source":[
        "import pandas as pd\n",
        "import seaborn as sns"
      ],
      "attachments":{
        
      },
      "execution_count":18,
      "outputs":[
        
      ],
      "metadata":{
        
      }
    },
    {
      "cell_type":"markdown",
      "source":[
        "Converting the CSV file to a pandas DataFrame."
      ],
      "attachments":{
        
      },
      "metadata":{
        
      }
    },
    {
      "cell_type":"code",
      "source":[
        "data = pd.read_csv(\"netflixDataset.csv\")"
      ],
      "attachments":{
        
      },
      "execution_count":2,
      "outputs":[
        
      ],
      "metadata":{
        
      }
    },
    {
      "cell_type":"markdown",
      "source":[
        "Showing the first 5 rows of the data."
      ],
      "attachments":{
        
      },
      "metadata":{
        
      }
    },
    {
      "cell_type":"code",
      "source":[
        "data.head()"
      ],
      "attachments":{
        
      },
      "execution_count":3,
      "outputs":[
        {
          "data":{
            "text\/html":[
              "<div>\n",
              "<style scoped>\n",
              "    .dataframe tbody tr th:only-of-type {\n",
              "        vertical-align: middle;\n",
              "    }\n",
              "\n",
              "    .dataframe tbody tr th {\n",
              "        vertical-align: top;\n",
              "    }\n",
              "\n",
              "    .dataframe thead th {\n",
              "        text-align: right;\n",
              "    }\n",
              "<\/style>\n",
              "<table border=\"1\" class=\"dataframe\">\n",
              "  <thead>\n",
              "    <tr style=\"text-align: right;\">\n",
              "      <th><\/th>\n",
              "      <th>Show_Id<\/th>\n",
              "      <th>Category<\/th>\n",
              "      <th>Title<\/th>\n",
              "      <th>Director<\/th>\n",
              "      <th>Cast<\/th>\n",
              "      <th>Country<\/th>\n",
              "      <th>Release_Date<\/th>\n",
              "      <th>Rating<\/th>\n",
              "      <th>Duration<\/th>\n",
              "      <th>Type<\/th>\n",
              "      <th>Description<\/th>\n",
              "    <\/tr>\n",
              "  <\/thead>\n",
              "  <tbody>\n",
              "    <tr>\n",
              "      <th>0<\/th>\n",
              "      <td>s1<\/td>\n",
              "      <td>TV Show<\/td>\n",
              "      <td>3%<\/td>\n",
              "      <td>NaN<\/td>\n",
              "      <td>João Miguel, Bianca Comparato, Michel Gomes, R...<\/td>\n",
              "      <td>Brazil<\/td>\n",
              "      <td>August 14, 2020<\/td>\n",
              "      <td>TV-MA<\/td>\n",
              "      <td>4 Seasons<\/td>\n",
              "      <td>International TV Shows, TV Dramas, TV Sci-Fi &amp;...<\/td>\n",
              "      <td>In a future where the elite inhabit an island ...<\/td>\n",
              "    <\/tr>\n",
              "    <tr>\n",
              "      <th>1<\/th>\n",
              "      <td>s2<\/td>\n",
              "      <td>Movie<\/td>\n",
              "      <td>07:19<\/td>\n",
              "      <td>Jorge Michel Grau<\/td>\n",
              "      <td>Demián Bichir, Héctor Bonilla, Oscar Serrano, ...<\/td>\n",
              "      <td>Mexico<\/td>\n",
              "      <td>December 23, 2016<\/td>\n",
              "      <td>TV-MA<\/td>\n",
              "      <td>93 min<\/td>\n",
              "      <td>Dramas, International Movies<\/td>\n",
              "      <td>After a devastating earthquake hits Mexico Cit...<\/td>\n",
              "    <\/tr>\n",
              "    <tr>\n",
              "      <th>2<\/th>\n",
              "      <td>s3<\/td>\n",
              "      <td>Movie<\/td>\n",
              "      <td>23:59<\/td>\n",
              "      <td>Gilbert Chan<\/td>\n",
              "      <td>Tedd Chan, Stella Chung, Henley Hii, Lawrence ...<\/td>\n",
              "      <td>Singapore<\/td>\n",
              "      <td>December 20, 2018<\/td>\n",
              "      <td>R<\/td>\n",
              "      <td>78 min<\/td>\n",
              "      <td>Horror Movies, International Movies<\/td>\n",
              "      <td>When an army recruit is found dead, his fellow...<\/td>\n",
              "    <\/tr>\n",
              "    <tr>\n",
              "      <th>3<\/th>\n",
              "      <td>s4<\/td>\n",
              "      <td>Movie<\/td>\n",
              "      <td>9<\/td>\n",
              "      <td>Shane Acker<\/td>\n",
              "      <td>Elijah Wood, John C. Reilly, Jennifer Connelly...<\/td>\n",
              "      <td>United States<\/td>\n",
              "      <td>November 16, 2017<\/td>\n",
              "      <td>PG-13<\/td>\n",
              "      <td>80 min<\/td>\n",
              "      <td>Action &amp; Adventure, Independent Movies, Sci-Fi...<\/td>\n",
              "      <td>In a postapocalyptic world, rag-doll robots hi...<\/td>\n",
              "    <\/tr>\n",
              "    <tr>\n",
              "      <th>4<\/th>\n",
              "      <td>s5<\/td>\n",
              "      <td>Movie<\/td>\n",
              "      <td>21<\/td>\n",
              "      <td>Robert Luketic<\/td>\n",
              "      <td>Jim Sturgess, Kevin Spacey, Kate Bosworth, Aar...<\/td>\n",
              "      <td>United States<\/td>\n",
              "      <td>January 1, 2020<\/td>\n",
              "      <td>PG-13<\/td>\n",
              "      <td>123 min<\/td>\n",
              "      <td>Dramas<\/td>\n",
              "      <td>A brilliant group of students become card-coun...<\/td>\n",
              "    <\/tr>\n",
              "  <\/tbody>\n",
              "<\/table>\n",
              "<\/div>"
            ]
          },
          "metadata":{
            
          },
          "output_type":"display_data"
        }
      ],
      "metadata":{
        
      }
    },
    {
      "cell_type":"markdown",
      "source":[
        "Showing the last 5 rows of the data."
      ],
      "attachments":{
        
      },
      "metadata":{
        
      }
    },
    {
      "cell_type":"code",
      "source":[
        "data.tail()"
      ],
      "attachments":{
        
      },
      "execution_count":4,
      "outputs":[
        {
          "data":{
            "text\/html":[
              "<div>\n",
              "<style scoped>\n",
              "    .dataframe tbody tr th:only-of-type {\n",
              "        vertical-align: middle;\n",
              "    }\n",
              "\n",
              "    .dataframe tbody tr th {\n",
              "        vertical-align: top;\n",
              "    }\n",
              "\n",
              "    .dataframe thead th {\n",
              "        text-align: right;\n",
              "    }\n",
              "<\/style>\n",
              "<table border=\"1\" class=\"dataframe\">\n",
              "  <thead>\n",
              "    <tr style=\"text-align: right;\">\n",
              "      <th><\/th>\n",
              "      <th>Show_Id<\/th>\n",
              "      <th>Category<\/th>\n",
              "      <th>Title<\/th>\n",
              "      <th>Director<\/th>\n",
              "      <th>Cast<\/th>\n",
              "      <th>Country<\/th>\n",
              "      <th>Release_Date<\/th>\n",
              "      <th>Rating<\/th>\n",
              "      <th>Duration<\/th>\n",
              "      <th>Type<\/th>\n",
              "      <th>Description<\/th>\n",
              "    <\/tr>\n",
              "  <\/thead>\n",
              "  <tbody>\n",
              "    <tr>\n",
              "      <th>7784<\/th>\n",
              "      <td>s7783<\/td>\n",
              "      <td>Movie<\/td>\n",
              "      <td>Zozo<\/td>\n",
              "      <td>Josef Fares<\/td>\n",
              "      <td>Imad Creidi, Antoinette Turk, Elias Gergi, Car...<\/td>\n",
              "      <td>Sweden, Czech Republic, United Kingdom, Denmar...<\/td>\n",
              "      <td>October 19, 2020<\/td>\n",
              "      <td>TV-MA<\/td>\n",
              "      <td>99 min<\/td>\n",
              "      <td>Dramas, International Movies<\/td>\n",
              "      <td>When Lebanon's Civil War deprives Zozo of his ...<\/td>\n",
              "    <\/tr>\n",
              "    <tr>\n",
              "      <th>7785<\/th>\n",
              "      <td>s7784<\/td>\n",
              "      <td>Movie<\/td>\n",
              "      <td>Zubaan<\/td>\n",
              "      <td>Mozez Singh<\/td>\n",
              "      <td>Vicky Kaushal, Sarah-Jane Dias, Raaghav Chanan...<\/td>\n",
              "      <td>India<\/td>\n",
              "      <td>March 2, 2019<\/td>\n",
              "      <td>TV-14<\/td>\n",
              "      <td>111 min<\/td>\n",
              "      <td>Dramas, International Movies, Music &amp; Musicals<\/td>\n",
              "      <td>A scrappy but poor boy worms his way into a ty...<\/td>\n",
              "    <\/tr>\n",
              "    <tr>\n",
              "      <th>7786<\/th>\n",
              "      <td>s7785<\/td>\n",
              "      <td>Movie<\/td>\n",
              "      <td>Zulu Man in Japan<\/td>\n",
              "      <td>NaN<\/td>\n",
              "      <td>Nasty C<\/td>\n",
              "      <td>NaN<\/td>\n",
              "      <td>September 25, 2020<\/td>\n",
              "      <td>TV-MA<\/td>\n",
              "      <td>44 min<\/td>\n",
              "      <td>Documentaries, International Movies, Music &amp; M...<\/td>\n",
              "      <td>In this documentary, South African rapper Nast...<\/td>\n",
              "    <\/tr>\n",
              "    <tr>\n",
              "      <th>7787<\/th>\n",
              "      <td>s7786<\/td>\n",
              "      <td>TV Show<\/td>\n",
              "      <td>Zumbo's Just Desserts<\/td>\n",
              "      <td>NaN<\/td>\n",
              "      <td>Adriano Zumbo, Rachel Khoo<\/td>\n",
              "      <td>Australia<\/td>\n",
              "      <td>October 31, 2020<\/td>\n",
              "      <td>TV-PG<\/td>\n",
              "      <td>1 Season<\/td>\n",
              "      <td>International TV Shows, Reality TV<\/td>\n",
              "      <td>Dessert wizard Adriano Zumbo looks for the nex...<\/td>\n",
              "    <\/tr>\n",
              "    <tr>\n",
              "      <th>7788<\/th>\n",
              "      <td>s7787<\/td>\n",
              "      <td>Movie<\/td>\n",
              "      <td>ZZ TOP: THAT LITTLE OL' BAND FROM TEXAS<\/td>\n",
              "      <td>Sam Dunn<\/td>\n",
              "      <td>NaN<\/td>\n",
              "      <td>United Kingdom, Canada, United States<\/td>\n",
              "      <td>March 1, 2020<\/td>\n",
              "      <td>TV-MA<\/td>\n",
              "      <td>90 min<\/td>\n",
              "      <td>Documentaries, Music &amp; Musicals<\/td>\n",
              "      <td>This documentary delves into the mystique behi...<\/td>\n",
              "    <\/tr>\n",
              "  <\/tbody>\n",
              "<\/table>\n",
              "<\/div>"
            ]
          },
          "metadata":{
            
          },
          "output_type":"display_data"
        }
      ],
      "metadata":{
        
      }
    },
    {
      "cell_type":"markdown",
      "source":[
        "Showing the number of rows and columns of the data."
      ],
      "attachments":{
        
      },
      "metadata":{
        
      }
    },
    {
      "cell_type":"code",
      "source":[
        "data.shape"
      ],
      "attachments":{
        
      },
      "execution_count":5,
      "outputs":[
        {
          "data":{
            "text\/plain":[
              "(7789, 11)"
            ]
          },
          "metadata":{
            
          },
          "output_type":"display_data"
        }
      ],
      "metadata":{
        
      }
    },
    {
      "cell_type":"markdown",
      "source":[
        "Showing the total number of elements of the data."
      ],
      "attachments":{
        
      },
      "metadata":{
        
      }
    },
    {
      "cell_type":"code",
      "source":[
        "data.size"
      ],
      "attachments":{
        
      },
      "execution_count":6,
      "outputs":[
        {
          "data":{
            "text\/plain":[
              "85679"
            ]
          },
          "metadata":{
            
          },
          "output_type":"display_data"
        }
      ],
      "metadata":{
        
      }
    },
    {
      "cell_type":"markdown",
      "source":[
        "Showing what columns the data contains."
      ],
      "attachments":{
        
      },
      "metadata":{
        
      }
    },
    {
      "cell_type":"code",
      "source":[
        "data.columns"
      ],
      "attachments":{
        
      },
      "execution_count":7,
      "outputs":[
        {
          "data":{
            "text\/plain":[
              "Index(['Show_Id', 'Category', 'Title', 'Director', 'Cast', 'Country',\n",
              "       'Release_Date', 'Rating', 'Duration', 'Type', 'Description'],\n",
              "      dtype='object')"
            ]
          },
          "metadata":{
            
          },
          "output_type":"display_data"
        }
      ],
      "metadata":{
        
      }
    },
    {
      "cell_type":"markdown",
      "source":[
        "Showing what data types each column of the data contains."
      ],
      "attachments":{
        
      },
      "metadata":{
        
      }
    },
    {
      "cell_type":"code",
      "source":[
        "data.dtypes"
      ],
      "attachments":{
        
      },
      "execution_count":8,
      "outputs":[
        {
          "data":{
            "text\/plain":[
              "Show_Id         object\n",
              "Category        object\n",
              "Title           object\n",
              "Director        object\n",
              "Cast            object\n",
              "Country         object\n",
              "Release_Date    object\n",
              "Rating          object\n",
              "Duration        object\n",
              "Type            object\n",
              "Description     object\n",
              "dtype: object"
            ]
          },
          "metadata":{
            
          },
          "output_type":"display_data"
        }
      ],
      "metadata":{
        
      }
    },
    {
      "cell_type":"markdown",
      "source":[
        "Showing how many non-null values each column contains and its data type."
      ],
      "attachments":{
        
      },
      "metadata":{
        
      }
    },
    {
      "cell_type":"code",
      "source":[
        "data.info()"
      ],
      "attachments":{
        
      },
      "execution_count":9,
      "outputs":[
        {
          "name":"stdout",
          "text":[
            "<class 'pandas.core.frame.DataFrame'>\n",
            "RangeIndex: 7789 entries, 0 to 7788\n",
            "Data columns (total 11 columns):\n",
            " #   Column        Non-Null Count  Dtype \n",
            "---  ------        --------------  ----- \n",
            " 0   Show_Id       7789 non-null   object\n",
            " 1   Category      7789 non-null   object\n",
            " 2   Title         7789 non-null   object\n",
            " 3   Director      5401 non-null   object\n",
            " 4   Cast          7071 non-null   object\n",
            " 5   Country       7282 non-null   object\n",
            " 6   Release_Date  7779 non-null   object\n",
            " 7   Rating        7782 non-null   object\n",
            " 8   Duration      7789 non-null   object\n",
            " 9   Type          7789 non-null   object\n",
            " 10  Description   7789 non-null   object\n",
            "dtypes: object(11)\n",
            "memory usage: 669.5+ KB\n"
          ],
          "output_type":"stream"
        }
      ],
      "metadata":{
        
      }
    },
    {
      "cell_type":"markdown",
      "source":[
        "Showing what rows are duplicated in the data."
      ],
      "attachments":{
        
      },
      "metadata":{
        
      }
    },
    {
      "cell_type":"code",
      "source":[
        "data[data.duplicated()]"
      ],
      "attachments":{
        
      },
      "execution_count":12,
      "outputs":[
        {
          "data":{
            "text\/html":[
              "<div>\n",
              "<style scoped>\n",
              "    .dataframe tbody tr th:only-of-type {\n",
              "        vertical-align: middle;\n",
              "    }\n",
              "\n",
              "    .dataframe tbody tr th {\n",
              "        vertical-align: top;\n",
              "    }\n",
              "\n",
              "    .dataframe thead th {\n",
              "        text-align: right;\n",
              "    }\n",
              "<\/style>\n",
              "<table border=\"1\" class=\"dataframe\">\n",
              "  <thead>\n",
              "    <tr style=\"text-align: right;\">\n",
              "      <th><\/th>\n",
              "      <th>Show_Id<\/th>\n",
              "      <th>Category<\/th>\n",
              "      <th>Title<\/th>\n",
              "      <th>Director<\/th>\n",
              "      <th>Cast<\/th>\n",
              "      <th>Country<\/th>\n",
              "      <th>Release_Date<\/th>\n",
              "      <th>Rating<\/th>\n",
              "      <th>Duration<\/th>\n",
              "      <th>Type<\/th>\n",
              "      <th>Description<\/th>\n",
              "    <\/tr>\n",
              "  <\/thead>\n",
              "  <tbody>\n",
              "    <tr>\n",
              "      <th>6300<\/th>\n",
              "      <td>s684<\/td>\n",
              "      <td>Movie<\/td>\n",
              "      <td>Backfire<\/td>\n",
              "      <td>Dave Patten<\/td>\n",
              "      <td>Black Deniro, Byron \"Squally\" Vinson, Dominic ...<\/td>\n",
              "      <td>United States<\/td>\n",
              "      <td>April 5, 2019<\/td>\n",
              "      <td>TV-MA<\/td>\n",
              "      <td>97 min<\/td>\n",
              "      <td>Dramas, Independent Movies, Thrillers<\/td>\n",
              "      <td>When two would-be robbers accidentally kill a ...<\/td>\n",
              "    <\/tr>\n",
              "    <tr>\n",
              "      <th>6622<\/th>\n",
              "      <td>s6621<\/td>\n",
              "      <td>Movie<\/td>\n",
              "      <td>The Lost Okoroshi<\/td>\n",
              "      <td>Abba T. Makama<\/td>\n",
              "      <td>Seun Ajayi, Judith Audu, Tope Tedela, Ifu Enna...<\/td>\n",
              "      <td>Nigeria<\/td>\n",
              "      <td>September 4, 2020<\/td>\n",
              "      <td>TV-MA<\/td>\n",
              "      <td>94 min<\/td>\n",
              "      <td>Comedies, Dramas, Independent Movies<\/td>\n",
              "      <td>A disillusioned security guard transforms into...<\/td>\n",
              "    <\/tr>\n",
              "  <\/tbody>\n",
              "<\/table>\n",
              "<\/div>"
            ]
          },
          "metadata":{
            
          },
          "output_type":"display_data"
        }
      ],
      "metadata":{
        
      }
    },
    {
      "cell_type":"markdown",
      "source":[
        "Removing the duplicated rows in the data."
      ],
      "attachments":{
        
      },
      "metadata":{
        
      }
    },
    {
      "cell_type":"code",
      "source":[
        "data.drop_duplicates(inplace=True)"
      ],
      "attachments":{
        
      },
      "execution_count":14,
      "outputs":[
        
      ],
      "metadata":{
        
      }
    },
    {
      "cell_type":"markdown",
      "source":[
        "Showing what elements of the data contains null values. A value of True indicates that the value is null."
      ],
      "attachments":{
        
      },
      "metadata":{
        
      }
    },
    {
      "cell_type":"code",
      "source":[
        "data.isnull()"
      ],
      "attachments":{
        
      },
      "execution_count":16,
      "outputs":[
        {
          "data":{
            "text\/html":[
              "<div>\n",
              "<style scoped>\n",
              "    .dataframe tbody tr th:only-of-type {\n",
              "        vertical-align: middle;\n",
              "    }\n",
              "\n",
              "    .dataframe tbody tr th {\n",
              "        vertical-align: top;\n",
              "    }\n",
              "\n",
              "    .dataframe thead th {\n",
              "        text-align: right;\n",
              "    }\n",
              "<\/style>\n",
              "<table border=\"1\" class=\"dataframe\">\n",
              "  <thead>\n",
              "    <tr style=\"text-align: right;\">\n",
              "      <th><\/th>\n",
              "      <th>Show_Id<\/th>\n",
              "      <th>Category<\/th>\n",
              "      <th>Title<\/th>\n",
              "      <th>Director<\/th>\n",
              "      <th>Cast<\/th>\n",
              "      <th>Country<\/th>\n",
              "      <th>Release_Date<\/th>\n",
              "      <th>Rating<\/th>\n",
              "      <th>Duration<\/th>\n",
              "      <th>Type<\/th>\n",
              "      <th>Description<\/th>\n",
              "    <\/tr>\n",
              "  <\/thead>\n",
              "  <tbody>\n",
              "    <tr>\n",
              "      <th>0<\/th>\n",
              "      <td>False<\/td>\n",
              "      <td>False<\/td>\n",
              "      <td>False<\/td>\n",
              "      <td>True<\/td>\n",
              "      <td>False<\/td>\n",
              "      <td>False<\/td>\n",
              "      <td>False<\/td>\n",
              "      <td>False<\/td>\n",
              "      <td>False<\/td>\n",
              "      <td>False<\/td>\n",
              "      <td>False<\/td>\n",
              "    <\/tr>\n",
              "    <tr>\n",
              "      <th>1<\/th>\n",
              "      <td>False<\/td>\n",
              "      <td>False<\/td>\n",
              "      <td>False<\/td>\n",
              "      <td>False<\/td>\n",
              "      <td>False<\/td>\n",
              "      <td>False<\/td>\n",
              "      <td>False<\/td>\n",
              "      <td>False<\/td>\n",
              "      <td>False<\/td>\n",
              "      <td>False<\/td>\n",
              "      <td>False<\/td>\n",
              "    <\/tr>\n",
              "    <tr>\n",
              "      <th>2<\/th>\n",
              "      <td>False<\/td>\n",
              "      <td>False<\/td>\n",
              "      <td>False<\/td>\n",
              "      <td>False<\/td>\n",
              "      <td>False<\/td>\n",
              "      <td>False<\/td>\n",
              "      <td>False<\/td>\n",
              "      <td>False<\/td>\n",
              "      <td>False<\/td>\n",
              "      <td>False<\/td>\n",
              "      <td>False<\/td>\n",
              "    <\/tr>\n",
              "    <tr>\n",
              "      <th>3<\/th>\n",
              "      <td>False<\/td>\n",
              "      <td>False<\/td>\n",
              "      <td>False<\/td>\n",
              "      <td>False<\/td>\n",
              "      <td>False<\/td>\n",
              "      <td>False<\/td>\n",
              "      <td>False<\/td>\n",
              "      <td>False<\/td>\n",
              "      <td>False<\/td>\n",
              "      <td>False<\/td>\n",
              "      <td>False<\/td>\n",
              "    <\/tr>\n",
              "    <tr>\n",
              "      <th>4<\/th>\n",
              "      <td>False<\/td>\n",
              "      <td>False<\/td>\n",
              "      <td>False<\/td>\n",
              "      <td>False<\/td>\n",
              "      <td>False<\/td>\n",
              "      <td>False<\/td>\n",
              "      <td>False<\/td>\n",
              "      <td>False<\/td>\n",
              "      <td>False<\/td>\n",
              "      <td>False<\/td>\n",
              "      <td>False<\/td>\n",
              "    <\/tr>\n",
              "    <tr>\n",
              "      <th>...<\/th>\n",
              "      <td>...<\/td>\n",
              "      <td>...<\/td>\n",
              "      <td>...<\/td>\n",
              "      <td>...<\/td>\n",
              "      <td>...<\/td>\n",
              "      <td>...<\/td>\n",
              "      <td>...<\/td>\n",
              "      <td>...<\/td>\n",
              "      <td>...<\/td>\n",
              "      <td>...<\/td>\n",
              "      <td>...<\/td>\n",
              "    <\/tr>\n",
              "    <tr>\n",
              "      <th>7784<\/th>\n",
              "      <td>False<\/td>\n",
              "      <td>False<\/td>\n",
              "      <td>False<\/td>\n",
              "      <td>False<\/td>\n",
              "      <td>False<\/td>\n",
              "      <td>False<\/td>\n",
              "      <td>False<\/td>\n",
              "      <td>False<\/td>\n",
              "      <td>False<\/td>\n",
              "      <td>False<\/td>\n",
              "      <td>False<\/td>\n",
              "    <\/tr>\n",
              "    <tr>\n",
              "      <th>7785<\/th>\n",
              "      <td>False<\/td>\n",
              "      <td>False<\/td>\n",
              "      <td>False<\/td>\n",
              "      <td>False<\/td>\n",
              "      <td>False<\/td>\n",
              "      <td>False<\/td>\n",
              "      <td>False<\/td>\n",
              "      <td>False<\/td>\n",
              "      <td>False<\/td>\n",
              "      <td>False<\/td>\n",
              "      <td>False<\/td>\n",
              "    <\/tr>\n",
              "    <tr>\n",
              "      <th>7786<\/th>\n",
              "      <td>False<\/td>\n",
              "      <td>False<\/td>\n",
              "      <td>False<\/td>\n",
              "      <td>True<\/td>\n",
              "      <td>False<\/td>\n",
              "      <td>True<\/td>\n",
              "      <td>False<\/td>\n",
              "      <td>False<\/td>\n",
              "      <td>False<\/td>\n",
              "      <td>False<\/td>\n",
              "      <td>False<\/td>\n",
              "    <\/tr>\n",
              "    <tr>\n",
              "      <th>7787<\/th>\n",
              "      <td>False<\/td>\n",
              "      <td>False<\/td>\n",
              "      <td>False<\/td>\n",
              "      <td>True<\/td>\n",
              "      <td>False<\/td>\n",
              "      <td>False<\/td>\n",
              "      <td>False<\/td>\n",
              "      <td>False<\/td>\n",
              "      <td>False<\/td>\n",
              "      <td>False<\/td>\n",
              "      <td>False<\/td>\n",
              "    <\/tr>\n",
              "    <tr>\n",
              "      <th>7788<\/th>\n",
              "      <td>False<\/td>\n",
              "      <td>False<\/td>\n",
              "      <td>False<\/td>\n",
              "      <td>False<\/td>\n",
              "      <td>True<\/td>\n",
              "      <td>False<\/td>\n",
              "      <td>False<\/td>\n",
              "      <td>False<\/td>\n",
              "      <td>False<\/td>\n",
              "      <td>False<\/td>\n",
              "      <td>False<\/td>\n",
              "    <\/tr>\n",
              "  <\/tbody>\n",
              "<\/table>\n",
              "<p>7787 rows × 11 columns<\/p>\n",
              "<\/div>"
            ]
          },
          "metadata":{
            
          },
          "output_type":"display_data"
        }
      ],
      "metadata":{
        
      }
    },
    {
      "cell_type":"markdown",
      "source":[
        "Showing the number of null values for each column in the data. 5 out of 11 columns contains null values."
      ],
      "attachments":{
        
      },
      "metadata":{
        
      }
    },
    {
      "cell_type":"code",
      "source":[
        "data.isnull().sum()"
      ],
      "attachments":{
        
      },
      "execution_count":17,
      "outputs":[
        {
          "data":{
            "text\/plain":[
              "Show_Id            0\n",
              "Category           0\n",
              "Title              0\n",
              "Director        2388\n",
              "Cast             718\n",
              "Country          507\n",
              "Release_Date      10\n",
              "Rating             7\n",
              "Duration           0\n",
              "Type               0\n",
              "Description        0\n",
              "dtype: int64"
            ]
          },
          "metadata":{
            
          },
          "output_type":"display_data"
        }
      ],
      "metadata":{
        
      }
    },
    {
      "cell_type":"markdown",
      "source":[
        "A heatmap that displays the spread of null values for each column. The Director column contains most null values. The Release_Date column contains a single null value."
      ],
      "attachments":{
        
      },
      "metadata":{
        
      }
    },
    {
      "cell_type":"code",
      "source":[
        "sns.heatmap(data.isnull())"
      ],
      "attachments":{
        
      },
      "execution_count":19,
      "outputs":[
        {
          "data":{
            "text\/plain":[
              "<AxesSubplot:>"
            ],
            "image\/png":"[encoded data removed]"
          },
          "metadata":{
            "image\/png":{
              "width":0,
              "height":0
            }
          },
          "output_type":"display_data"
        }
      ],
      "metadata":{
        
      }
    },
    {
      "cell_type":"markdown",
      "source":[
        "Showing the row in which the string \"House of Cards\" is in the title by using isin and str.contains."
      ],
      "attachments":{
        
      },
      "metadata":{
        
      }
    },
    {
      "cell_type":"code",
      "source":[
        "data[data['Title'].isin([\"House of Cards\"])]"
      ],
      "attachments":{
        
      },
      "execution_count":22,
      "outputs":[
        {
          "data":{
            "text\/html":[
              "<div>\n",
              "<style scoped>\n",
              "    .dataframe tbody tr th:only-of-type {\n",
              "        vertical-align: middle;\n",
              "    }\n",
              "\n",
              "    .dataframe tbody tr th {\n",
              "        vertical-align: top;\n",
              "    }\n",
              "\n",
              "    .dataframe thead th {\n",
              "        text-align: right;\n",
              "    }\n",
              "<\/style>\n",
              "<table border=\"1\" class=\"dataframe\">\n",
              "  <thead>\n",
              "    <tr style=\"text-align: right;\">\n",
              "      <th><\/th>\n",
              "      <th>Show_Id<\/th>\n",
              "      <th>Category<\/th>\n",
              "      <th>Title<\/th>\n",
              "      <th>Director<\/th>\n",
              "      <th>Cast<\/th>\n",
              "      <th>Country<\/th>\n",
              "      <th>Release_Date<\/th>\n",
              "      <th>Rating<\/th>\n",
              "      <th>Duration<\/th>\n",
              "      <th>Type<\/th>\n",
              "      <th>Description<\/th>\n",
              "    <\/tr>\n",
              "  <\/thead>\n",
              "  <tbody>\n",
              "    <tr>\n",
              "      <th>2832<\/th>\n",
              "      <td>s2833<\/td>\n",
              "      <td>TV Show<\/td>\n",
              "      <td>House of Cards<\/td>\n",
              "      <td>Robin Wright, David Fincher, Gerald McRaney, J...<\/td>\n",
              "      <td>Kevin Spacey, Robin Wright, Kate Mara, Corey S...<\/td>\n",
              "      <td>United States<\/td>\n",
              "      <td>November 2, 2018<\/td>\n",
              "      <td>TV-MA<\/td>\n",
              "      <td>6 Seasons<\/td>\n",
              "      <td>TV Dramas, TV Thrillers<\/td>\n",
              "      <td>A ruthless politician will stop at nothing to ...<\/td>\n",
              "    <\/tr>\n",
              "  <\/tbody>\n",
              "<\/table>\n",
              "<\/div>"
            ]
          },
          "metadata":{
            
          },
          "output_type":"display_data"
        }
      ],
      "metadata":{
        
      }
    },
    {
      "cell_type":"code",
      "source":[
        "data[data['Title'].str.contains(\"House of Cards\")]"
      ],
      "attachments":{
        
      },
      "execution_count":23,
      "outputs":[
        {
          "data":{
            "text\/html":[
              "<div>\n",
              "<style scoped>\n",
              "    .dataframe tbody tr th:only-of-type {\n",
              "        vertical-align: middle;\n",
              "    }\n",
              "\n",
              "    .dataframe tbody tr th {\n",
              "        vertical-align: top;\n",
              "    }\n",
              "\n",
              "    .dataframe thead th {\n",
              "        text-align: right;\n",
              "    }\n",
              "<\/style>\n",
              "<table border=\"1\" class=\"dataframe\">\n",
              "  <thead>\n",
              "    <tr style=\"text-align: right;\">\n",
              "      <th><\/th>\n",
              "      <th>Show_Id<\/th>\n",
              "      <th>Category<\/th>\n",
              "      <th>Title<\/th>\n",
              "      <th>Director<\/th>\n",
              "      <th>Cast<\/th>\n",
              "      <th>Country<\/th>\n",
              "      <th>Release_Date<\/th>\n",
              "      <th>Rating<\/th>\n",
              "      <th>Duration<\/th>\n",
              "      <th>Type<\/th>\n",
              "      <th>Description<\/th>\n",
              "    <\/tr>\n",
              "  <\/thead>\n",
              "  <tbody>\n",
              "    <tr>\n",
              "      <th>2832<\/th>\n",
              "      <td>s2833<\/td>\n",
              "      <td>TV Show<\/td>\n",
              "      <td>House of Cards<\/td>\n",
              "      <td>Robin Wright, David Fincher, Gerald McRaney, J...<\/td>\n",
              "      <td>Kevin Spacey, Robin Wright, Kate Mara, Corey S...<\/td>\n",
              "      <td>United States<\/td>\n",
              "      <td>November 2, 2018<\/td>\n",
              "      <td>TV-MA<\/td>\n",
              "      <td>6 Seasons<\/td>\n",
              "      <td>TV Dramas, TV Thrillers<\/td>\n",
              "      <td>A ruthless politician will stop at nothing to ...<\/td>\n",
              "    <\/tr>\n",
              "  <\/tbody>\n",
              "<\/table>\n",
              "<\/div>"
            ]
          },
          "metadata":{
            
          },
          "output_type":"display_data"
        }
      ],
      "metadata":{
        
      }
    },
    {
      "cell_type":"markdown",
      "source":[
        "Creating a new column called \"date_N\" from converting the Release_Date column to a datetime type."
      ],
      "attachments":{
        
      },
      "metadata":{
        
      }
    },
    {
      "cell_type":"code",
      "source":[
        "data[\"date_N\"] = pd.to_datetime(data[\"Release_Date\"])"
      ],
      "attachments":{
        
      },
      "execution_count":24,
      "outputs":[
        
      ],
      "metadata":{
        
      }
    },
    {
      "cell_type":"markdown",
      "source":[
        "<M8[ns] is a specific datetime type. On a machine whose byte order is little endian, there is no difference between np.dtype('datetime64[ns]') and np.dtype('<M8[ns]')"
      ],
      "attachments":{
        
      },
      "metadata":{
        
      }
    },
    {
      "cell_type":"code",
      "source":[
        "data[\"date_N\"].dtype"
      ],
      "attachments":{
        
      },
      "execution_count":25,
      "outputs":[
        {
          "data":{
            "text\/plain":[
              "dtype('<M8[ns]')"
            ]
          },
          "metadata":{
            
          },
          "output_type":"display_data"
        }
      ],
      "metadata":{
        
      }
    },
    {
      "cell_type":"markdown",
      "source":[
        "Showing the number of records in which each year is present in the date_N column. In other words, this shows the number of movies and tv-shows that were released per year."
      ],
      "attachments":{
        
      },
      "metadata":{
        
      }
    },
    {
      "cell_type":"code",
      "source":[
        "data[\"date_N\"].dt.year.value_counts()"
      ],
      "attachments":{
        
      },
      "execution_count":26,
      "outputs":[
        {
          "data":{
            "text\/plain":[
              "2019.0    2153\n",
              "2020.0    2009\n",
              "2018.0    1685\n",
              "2017.0    1225\n",
              "2016.0     443\n",
              "2021.0     117\n",
              "2015.0      88\n",
              "2014.0      25\n",
              "2011.0      13\n",
              "2013.0      11\n",
              "2012.0       3\n",
              "2009.0       2\n",
              "2008.0       2\n",
              "2010.0       1\n",
              "Name: date_N, dtype: int64"
            ]
          },
          "metadata":{
            
          },
          "output_type":"display_data"
        }
      ],
      "metadata":{
        
      }
    },
    {
      "cell_type":"markdown",
      "source":[
        "Displaying the number of movies and tv-shows released per year as a bar plot."
      ],
      "attachments":{
        
      },
      "metadata":{
        
      }
    },
    {
      "cell_type":"code",
      "source":[
        "data['date_N'].dt.year.value_counts().plot(kind='bar')"
      ],
      "attachments":{
        
      },
      "execution_count":28,
      "outputs":[
        {
          "data":{
            "text\/plain":[
              "<AxesSubplot:>"
            ],
            "image\/png":"[encoded data removed]"
          },
          "metadata":{
            "image\/png":{
              "width":0,
              "height":0
            }
          },
          "output_type":"display_data"
        }
      ],
      "metadata":{
        
      }
    },
    {
      "cell_type":"markdown",
      "source":[
        "Showing only the top 2 rows of the data."
      ],
      "attachments":{
        
      },
      "metadata":{
        
      }
    },
    {
      "cell_type":"code",
      "source":[
        "data.head(2)"
      ],
      "attachments":{
        
      },
      "execution_count":29,
      "outputs":[
        {
          "data":{
            "text\/html":[
              "<div>\n",
              "<style scoped>\n",
              "    .dataframe tbody tr th:only-of-type {\n",
              "        vertical-align: middle;\n",
              "    }\n",
              "\n",
              "    .dataframe tbody tr th {\n",
              "        vertical-align: top;\n",
              "    }\n",
              "\n",
              "    .dataframe thead th {\n",
              "        text-align: right;\n",
              "    }\n",
              "<\/style>\n",
              "<table border=\"1\" class=\"dataframe\">\n",
              "  <thead>\n",
              "    <tr style=\"text-align: right;\">\n",
              "      <th><\/th>\n",
              "      <th>Show_Id<\/th>\n",
              "      <th>Category<\/th>\n",
              "      <th>Title<\/th>\n",
              "      <th>Director<\/th>\n",
              "      <th>Cast<\/th>\n",
              "      <th>Country<\/th>\n",
              "      <th>Release_Date<\/th>\n",
              "      <th>Rating<\/th>\n",
              "      <th>Duration<\/th>\n",
              "      <th>Type<\/th>\n",
              "      <th>Description<\/th>\n",
              "      <th>date_N<\/th>\n",
              "    <\/tr>\n",
              "  <\/thead>\n",
              "  <tbody>\n",
              "    <tr>\n",
              "      <th>0<\/th>\n",
              "      <td>s1<\/td>\n",
              "      <td>TV Show<\/td>\n",
              "      <td>3%<\/td>\n",
              "      <td>NaN<\/td>\n",
              "      <td>João Miguel, Bianca Comparato, Michel Gomes, R...<\/td>\n",
              "      <td>Brazil<\/td>\n",
              "      <td>August 14, 2020<\/td>\n",
              "      <td>TV-MA<\/td>\n",
              "      <td>4 Seasons<\/td>\n",
              "      <td>International TV Shows, TV Dramas, TV Sci-Fi &amp;...<\/td>\n",
              "      <td>In a future where the elite inhabit an island ...<\/td>\n",
              "      <td>2020-08-14<\/td>\n",
              "    <\/tr>\n",
              "    <tr>\n",
              "      <th>1<\/th>\n",
              "      <td>s2<\/td>\n",
              "      <td>Movie<\/td>\n",
              "      <td>07:19<\/td>\n",
              "      <td>Jorge Michel Grau<\/td>\n",
              "      <td>Demián Bichir, Héctor Bonilla, Oscar Serrano, ...<\/td>\n",
              "      <td>Mexico<\/td>\n",
              "      <td>December 23, 2016<\/td>\n",
              "      <td>TV-MA<\/td>\n",
              "      <td>93 min<\/td>\n",
              "      <td>Dramas, International Movies<\/td>\n",
              "      <td>After a devastating earthquake hits Mexico Cit...<\/td>\n",
              "      <td>2016-12-23<\/td>\n",
              "    <\/tr>\n",
              "  <\/tbody>\n",
              "<\/table>\n",
              "<\/div>"
            ]
          },
          "metadata":{
            
          },
          "output_type":"display_data"
        }
      ],
      "metadata":{
        
      }
    },
    {
      "cell_type":"markdown",
      "source":[
        "Showing the number of movies as compared to the number of tv-shows."
      ],
      "attachments":{
        
      },
      "metadata":{
        
      }
    },
    {
      "cell_type":"code",
      "source":[
        "data.groupby(\"Category\").Category.count()"
      ],
      "attachments":{
        
      },
      "execution_count":31,
      "outputs":[
        {
          "data":{
            "text\/plain":[
              "Category\n",
              "Movie      5377\n",
              "TV Show    2410\n",
              "Name: Category, dtype: int64"
            ]
          },
          "metadata":{
            
          },
          "output_type":"display_data"
        }
      ],
      "metadata":{
        
      }
    },
    {
      "cell_type":"markdown",
      "source":[
        "Showing the distribution of movies and tv-shows in the data via a countplot."
      ],
      "attachments":{
        
      },
      "metadata":{
        
      }
    },
    {
      "cell_type":"code",
      "source":[
        "sns.countplot(data[\"Category\"])"
      ],
      "attachments":{
        
      },
      "execution_count":35,
      "outputs":[
        {
          "data":{
            "text\/plain":[
              "<AxesSubplot:xlabel='Category', ylabel='count'>"
            ],
            "image\/png":"[encoded data removed]"
          },
          "metadata":{
            "image\/png":{
              "width":0,
              "height":0
            }
          },
          "output_type":"display_data"
        }
      ],
      "metadata":{
        
      }
    },
    {
      "cell_type":"markdown",
      "source":[
        "Creating a new column called \"Year\" that contains the year value from the date_N column."
      ],
      "attachments":{
        
      },
      "metadata":{
        
      }
    },
    {
      "cell_type":"code",
      "source":[
        "data[\"Year\"] = data[\"date_N\"].dt.year"
      ],
      "attachments":{
        
      },
      "execution_count":36,
      "outputs":[
        
      ],
      "metadata":{
        
      }
    },
    {
      "cell_type":"markdown",
      "source":[
        "Showing the movies that were released in the year 2020."
      ],
      "attachments":{
        
      },
      "metadata":{
        
      }
    },
    {
      "cell_type":"code",
      "source":[
        "data[(data[\"Category\"] == \"Movie\") & (data[\"Year\"] == 2020)]"
      ],
      "attachments":{
        
      },
      "execution_count":38,
      "outputs":[
        {
          "data":{
            "text\/html":[
              "<div>\n",
              "<style scoped>\n",
              "    .dataframe tbody tr th:only-of-type {\n",
              "        vertical-align: middle;\n",
              "    }\n",
              "\n",
              "    .dataframe tbody tr th {\n",
              "        vertical-align: top;\n",
              "    }\n",
              "\n",
              "    .dataframe thead th {\n",
              "        text-align: right;\n",
              "    }\n",
              "<\/style>\n",
              "<table border=\"1\" class=\"dataframe\">\n",
              "  <thead>\n",
              "    <tr style=\"text-align: right;\">\n",
              "      <th><\/th>\n",
              "      <th>Show_Id<\/th>\n",
              "      <th>Category<\/th>\n",
              "      <th>Title<\/th>\n",
              "      <th>Director<\/th>\n",
              "      <th>Cast<\/th>\n",
              "      <th>Country<\/th>\n",
              "      <th>Release_Date<\/th>\n",
              "      <th>Rating<\/th>\n",
              "      <th>Duration<\/th>\n",
              "      <th>Type<\/th>\n",
              "      <th>Description<\/th>\n",
              "      <th>date_N<\/th>\n",
              "      <th>Year<\/th>\n",
              "    <\/tr>\n",
              "  <\/thead>\n",
              "  <tbody>\n",
              "    <tr>\n",
              "      <th>4<\/th>\n",
              "      <td>s5<\/td>\n",
              "      <td>Movie<\/td>\n",
              "      <td>21<\/td>\n",
              "      <td>Robert Luketic<\/td>\n",
              "      <td>Jim Sturgess, Kevin Spacey, Kate Bosworth, Aar...<\/td>\n",
              "      <td>United States<\/td>\n",
              "      <td>January 1, 2020<\/td>\n",
              "      <td>PG-13<\/td>\n",
              "      <td>123 min<\/td>\n",
              "      <td>Dramas<\/td>\n",
              "      <td>A brilliant group of students become card-coun...<\/td>\n",
              "      <td>2020-01-01<\/td>\n",
              "      <td>2020.0<\/td>\n",
              "    <\/tr>\n",
              "    <tr>\n",
              "      <th>6<\/th>\n",
              "      <td>s7<\/td>\n",
              "      <td>Movie<\/td>\n",
              "      <td>122<\/td>\n",
              "      <td>Yasir Al Yasiri<\/td>\n",
              "      <td>Amina Khalil, Ahmed Dawood, Tarek Lotfy, Ahmed...<\/td>\n",
              "      <td>Egypt<\/td>\n",
              "      <td>June 1, 2020<\/td>\n",
              "      <td>TV-MA<\/td>\n",
              "      <td>95 min<\/td>\n",
              "      <td>Horror Movies, International Movies<\/td>\n",
              "      <td>After an awful accident, a couple admitted to ...<\/td>\n",
              "      <td>2020-06-01<\/td>\n",
              "      <td>2020.0<\/td>\n",
              "    <\/tr>\n",
              "    <tr>\n",
              "      <th>14<\/th>\n",
              "      <td>s15<\/td>\n",
              "      <td>Movie<\/td>\n",
              "      <td>3022<\/td>\n",
              "      <td>John Suits<\/td>\n",
              "      <td>Omar Epps, Kate Walsh, Miranda Cosgrove, Angus...<\/td>\n",
              "      <td>United States<\/td>\n",
              "      <td>March 19, 2020<\/td>\n",
              "      <td>R<\/td>\n",
              "      <td>91 min<\/td>\n",
              "      <td>Independent Movies, Sci-Fi &amp; Fantasy, Thrillers<\/td>\n",
              "      <td>Stranded when the Earth is suddenly destroyed ...<\/td>\n",
              "      <td>2020-03-19<\/td>\n",
              "      <td>2020.0<\/td>\n",
              "    <\/tr>\n",
              "    <tr>\n",
              "      <th>27<\/th>\n",
              "      <td>s28<\/td>\n",
              "      <td>Movie<\/td>\n",
              "      <td>#Alive<\/td>\n",
              "      <td>Cho Il<\/td>\n",
              "      <td>Yoo Ah-in, Park Shin-hye<\/td>\n",
              "      <td>South Korea<\/td>\n",
              "      <td>September 8, 2020<\/td>\n",
              "      <td>TV-MA<\/td>\n",
              "      <td>99 min<\/td>\n",
              "      <td>Horror Movies, International Movies, Thrillers<\/td>\n",
              "      <td>As a grisly virus rampages a city, a lone man ...<\/td>\n",
              "      <td>2020-09-08<\/td>\n",
              "      <td>2020.0<\/td>\n",
              "    <\/tr>\n",
              "    <tr>\n",
              "      <th>28<\/th>\n",
              "      <td>s29<\/td>\n",
              "      <td>Movie<\/td>\n",
              "      <td>#AnneFrank - Parallel Stories<\/td>\n",
              "      <td>Sabina Fedeli, Anna Migotto<\/td>\n",
              "      <td>Helen Mirren, Gengher Gatti<\/td>\n",
              "      <td>Italy<\/td>\n",
              "      <td>July 1, 2020<\/td>\n",
              "      <td>TV-14<\/td>\n",
              "      <td>95 min<\/td>\n",
              "      <td>Documentaries, International Movies<\/td>\n",
              "      <td>Through her diary, Anne Frank's story is retol...<\/td>\n",
              "      <td>2020-07-01<\/td>\n",
              "      <td>2020.0<\/td>\n",
              "    <\/tr>\n",
              "    <tr>\n",
              "      <th>...<\/th>\n",
              "      <td>...<\/td>\n",
              "      <td>...<\/td>\n",
              "      <td>...<\/td>\n",
              "      <td>...<\/td>\n",
              "      <td>...<\/td>\n",
              "      <td>...<\/td>\n",
              "      <td>...<\/td>\n",
              "      <td>...<\/td>\n",
              "      <td>...<\/td>\n",
              "      <td>...<\/td>\n",
              "      <td>...<\/td>\n",
              "      <td>...<\/td>\n",
              "      <td>...<\/td>\n",
              "    <\/tr>\n",
              "    <tr>\n",
              "      <th>7762<\/th>\n",
              "      <td>s7761<\/td>\n",
              "      <td>Movie<\/td>\n",
              "      <td>Zaki Chan<\/td>\n",
              "      <td>Wael Ihsan<\/td>\n",
              "      <td>Ahmed Helmy, Yasmin Abdulaziz, Hassan Hosny, H...<\/td>\n",
              "      <td>Egypt<\/td>\n",
              "      <td>May 19, 2020<\/td>\n",
              "      <td>TV-PG<\/td>\n",
              "      <td>109 min<\/td>\n",
              "      <td>Comedies, International Movies, Romantic Movies<\/td>\n",
              "      <td>An unqualified young man has his work cut out ...<\/td>\n",
              "      <td>2020-05-19<\/td>\n",
              "      <td>2020.0<\/td>\n",
              "    <\/tr>\n",
              "    <tr>\n",
              "      <th>7783<\/th>\n",
              "      <td>s7782<\/td>\n",
              "      <td>Movie<\/td>\n",
              "      <td>Zoom<\/td>\n",
              "      <td>Peter Hewitt<\/td>\n",
              "      <td>Tim Allen, Courteney Cox, Chevy Chase, Kate Ma...<\/td>\n",
              "      <td>United States<\/td>\n",
              "      <td>January 11, 2020<\/td>\n",
              "      <td>PG<\/td>\n",
              "      <td>88 min<\/td>\n",
              "      <td>Children &amp; Family Movies, Comedies<\/td>\n",
              "      <td>Dragged from civilian life, a former superhero...<\/td>\n",
              "      <td>2020-01-11<\/td>\n",
              "      <td>2020.0<\/td>\n",
              "    <\/tr>\n",
              "    <tr>\n",
              "      <th>7784<\/th>\n",
              "      <td>s7783<\/td>\n",
              "      <td>Movie<\/td>\n",
              "      <td>Zozo<\/td>\n",
              "      <td>Josef Fares<\/td>\n",
              "      <td>Imad Creidi, Antoinette Turk, Elias Gergi, Car...<\/td>\n",
              "      <td>Sweden, Czech Republic, United Kingdom, Denmar...<\/td>\n",
              "      <td>October 19, 2020<\/td>\n",
              "      <td>TV-MA<\/td>\n",
              "      <td>99 min<\/td>\n",
              "      <td>Dramas, International Movies<\/td>\n",
              "      <td>When Lebanon's Civil War deprives Zozo of his ...<\/td>\n",
              "      <td>2020-10-19<\/td>\n",
              "      <td>2020.0<\/td>\n",
              "    <\/tr>\n",
              "    <tr>\n",
              "      <th>7786<\/th>\n",
              "      <td>s7785<\/td>\n",
              "      <td>Movie<\/td>\n",
              "      <td>Zulu Man in Japan<\/td>\n",
              "      <td>NaN<\/td>\n",
              "      <td>Nasty C<\/td>\n",
              "      <td>NaN<\/td>\n",
              "      <td>September 25, 2020<\/td>\n",
              "      <td>TV-MA<\/td>\n",
              "      <td>44 min<\/td>\n",
              "      <td>Documentaries, International Movies, Music &amp; M...<\/td>\n",
              "      <td>In this documentary, South African rapper Nast...<\/td>\n",
              "      <td>2020-09-25<\/td>\n",
              "      <td>2020.0<\/td>\n",
              "    <\/tr>\n",
              "    <tr>\n",
              "      <th>7788<\/th>\n",
              "      <td>s7787<\/td>\n",
              "      <td>Movie<\/td>\n",
              "      <td>ZZ TOP: THAT LITTLE OL' BAND FROM TEXAS<\/td>\n",
              "      <td>Sam Dunn<\/td>\n",
              "      <td>NaN<\/td>\n",
              "      <td>United Kingdom, Canada, United States<\/td>\n",
              "      <td>March 1, 2020<\/td>\n",
              "      <td>TV-MA<\/td>\n",
              "      <td>90 min<\/td>\n",
              "      <td>Documentaries, Music &amp; Musicals<\/td>\n",
              "      <td>This documentary delves into the mystique behi...<\/td>\n",
              "      <td>2020-03-01<\/td>\n",
              "      <td>2020.0<\/td>\n",
              "    <\/tr>\n",
              "  <\/tbody>\n",
              "<\/table>\n",
              "<p>1312 rows × 13 columns<\/p>\n",
              "<\/div>"
            ]
          },
          "metadata":{
            
          },
          "output_type":"display_data"
        }
      ],
      "metadata":{
        
      }
    },
    {
      "cell_type":"markdown",
      "source":[
        "Showing the titles of the tv-shows that were released in India."
      ],
      "attachments":{
        
      },
      "metadata":{
        
      }
    },
    {
      "cell_type":"code",
      "source":[
        "data[(data[\"Category\"] == \"TV Show\") & (data[\"Country\"] == \"India\")][\"Title\"]"
      ],
      "attachments":{
        
      },
      "execution_count":40,
      "outputs":[
        {
          "data":{
            "text\/plain":[
              "86            21 Sarfarosh: Saragarhi 1897\n",
              "132                              7 (Seven)\n",
              "340                           Agent Raghav\n",
              "364                           Akbar Birbal\n",
              "533                    Anjaan: Rural Myths\n",
              "                       ...                \n",
              "6249                  The Creative Indians\n",
              "6400    The Golden Years with Javed Akhtar\n",
              "6469                The House That Made Me\n",
              "7294                            Typewriter\n",
              "7705                       Yeh Meri Family\n",
              "Name: Title, Length: 71, dtype: object"
            ]
          },
          "metadata":{
            
          },
          "output_type":"display_data"
        }
      ],
      "metadata":{
        
      }
    },
    {
      "cell_type":"markdown",
      "source":[
        "Showing the top ten directors contributed with the highest number of movies and tv-shows."
      ],
      "attachments":{
        
      },
      "metadata":{
        
      }
    },
    {
      "cell_type":"code",
      "source":[
        "data[\"Director\"].value_counts().head(10)"
      ],
      "attachments":{
        
      },
      "execution_count":43,
      "outputs":[
        {
          "data":{
            "text\/plain":[
              "Raúl Campos, Jan Suter    18\n",
              "Marcus Raboy              16\n",
              "Jay Karas                 14\n",
              "Cathy Garcia-Molina       13\n",
              "Youssef Chahine           12\n",
              "Martin Scorsese           12\n",
              "Jay Chapman               12\n",
              "Steven Spielberg          10\n",
              "David Dhawan               9\n",
              "Hakan Algül                8\n",
              "Name: Director, dtype: int64"
            ]
          },
          "metadata":{
            
          },
          "output_type":"display_data"
        }
      ],
      "metadata":{
        
      }
    },
    {
      "cell_type":"markdown",
      "source":[
        "Showing movies that were either released in the United Kingdom or is a comedy."
      ],
      "attachments":{
        
      },
      "metadata":{
        
      }
    },
    {
      "cell_type":"code",
      "source":[
        "data[(data[\"Category\"] == \"Movie\") & (data[\"Type\"].isin([\"Comedies\"]) | (data[\"Country\"] == \"United Kingdom\"))]"
      ],
      "attachments":{
        
      },
      "execution_count":45,
      "outputs":[
        {
          "data":{
            "text\/html":[
              "<div>\n",
              "<style scoped>\n",
              "    .dataframe tbody tr th:only-of-type {\n",
              "        vertical-align: middle;\n",
              "    }\n",
              "\n",
              "    .dataframe tbody tr th {\n",
              "        vertical-align: top;\n",
              "    }\n",
              "\n",
              "    .dataframe thead th {\n",
              "        text-align: right;\n",
              "    }\n",
              "<\/style>\n",
              "<table border=\"1\" class=\"dataframe\">\n",
              "  <thead>\n",
              "    <tr style=\"text-align: right;\">\n",
              "      <th><\/th>\n",
              "      <th>Show_Id<\/th>\n",
              "      <th>Category<\/th>\n",
              "      <th>Title<\/th>\n",
              "      <th>Director<\/th>\n",
              "      <th>Cast<\/th>\n",
              "      <th>Country<\/th>\n",
              "      <th>Release_Date<\/th>\n",
              "      <th>Rating<\/th>\n",
              "      <th>Duration<\/th>\n",
              "      <th>Type<\/th>\n",
              "      <th>Description<\/th>\n",
              "      <th>date_N<\/th>\n",
              "      <th>Year<\/th>\n",
              "    <\/tr>\n",
              "  <\/thead>\n",
              "  <tbody>\n",
              "    <tr>\n",
              "      <th>19<\/th>\n",
              "      <td>s20<\/td>\n",
              "      <td>Movie<\/td>\n",
              "      <td>'89<\/td>\n",
              "      <td>NaN<\/td>\n",
              "      <td>Lee Dixon, Ian Wright, Paul Merson<\/td>\n",
              "      <td>United Kingdom<\/td>\n",
              "      <td>May 16, 2018<\/td>\n",
              "      <td>TV-PG<\/td>\n",
              "      <td>87 min<\/td>\n",
              "      <td>Sports Movies<\/td>\n",
              "      <td>Mixing old footage with interviews, this is th...<\/td>\n",
              "      <td>2018-05-16<\/td>\n",
              "      <td>2018.0<\/td>\n",
              "    <\/tr>\n",
              "    <tr>\n",
              "      <th>33<\/th>\n",
              "      <td>s34<\/td>\n",
              "      <td>Movie<\/td>\n",
              "      <td>#realityhigh<\/td>\n",
              "      <td>Fernando Lebrija<\/td>\n",
              "      <td>Nesta Cooper, Kate Walsh, John Michael Higgins...<\/td>\n",
              "      <td>United States<\/td>\n",
              "      <td>September 8, 2017<\/td>\n",
              "      <td>TV-14<\/td>\n",
              "      <td>99 min<\/td>\n",
              "      <td>Comedies<\/td>\n",
              "      <td>When nerdy high schooler Dani finally attracts...<\/td>\n",
              "      <td>2017-09-08<\/td>\n",
              "      <td>2017.0<\/td>\n",
              "    <\/tr>\n",
              "    <tr>\n",
              "      <th>72<\/th>\n",
              "      <td>s73<\/td>\n",
              "      <td>Movie<\/td>\n",
              "      <td>17 Again<\/td>\n",
              "      <td>Burr Steers<\/td>\n",
              "      <td>Zac Efron, Leslie Mann, Matthew Perry, Thomas ...<\/td>\n",
              "      <td>United States<\/td>\n",
              "      <td>January 1, 2021<\/td>\n",
              "      <td>PG-13<\/td>\n",
              "      <td>102 min<\/td>\n",
              "      <td>Comedies<\/td>\n",
              "      <td>Nearing a midlife crisis, thirty-something Mik...<\/td>\n",
              "      <td>2021-01-01<\/td>\n",
              "      <td>2021.0<\/td>\n",
              "    <\/tr>\n",
              "    <tr>\n",
              "      <th>82<\/th>\n",
              "      <td>s83<\/td>\n",
              "      <td>Movie<\/td>\n",
              "      <td>2036 Origin Unknown<\/td>\n",
              "      <td>Hasraf Dulull<\/td>\n",
              "      <td>Katee Sackhoff, Ray Fearon, Julie Cox, Steven ...<\/td>\n",
              "      <td>United Kingdom<\/td>\n",
              "      <td>December 20, 2018<\/td>\n",
              "      <td>TV-14<\/td>\n",
              "      <td>95 min<\/td>\n",
              "      <td>Sci-Fi &amp; Fantasy<\/td>\n",
              "      <td>Working with an artificial intelligence to inv...<\/td>\n",
              "      <td>2018-12-20<\/td>\n",
              "      <td>2018.0<\/td>\n",
              "    <\/tr>\n",
              "    <tr>\n",
              "      <th>84<\/th>\n",
              "      <td>s85<\/td>\n",
              "      <td>Movie<\/td>\n",
              "      <td>21 &amp; Over<\/td>\n",
              "      <td>Jon Lucas, Scott Moore<\/td>\n",
              "      <td>Miles Teller, Skylar Astin, Justin Chon, Sarah...<\/td>\n",
              "      <td>United States<\/td>\n",
              "      <td>April 16, 2019<\/td>\n",
              "      <td>R<\/td>\n",
              "      <td>93 min<\/td>\n",
              "      <td>Comedies<\/td>\n",
              "      <td>Jeff's straight-and-narrow life changes abrupt...<\/td>\n",
              "      <td>2019-04-16<\/td>\n",
              "      <td>2019.0<\/td>\n",
              "    <\/tr>\n",
              "    <tr>\n",
              "      <th>...<\/th>\n",
              "      <td>...<\/td>\n",
              "      <td>...<\/td>\n",
              "      <td>...<\/td>\n",
              "      <td>...<\/td>\n",
              "      <td>...<\/td>\n",
              "      <td>...<\/td>\n",
              "      <td>...<\/td>\n",
              "      <td>...<\/td>\n",
              "      <td>...<\/td>\n",
              "      <td>...<\/td>\n",
              "      <td>...<\/td>\n",
              "      <td>...<\/td>\n",
              "      <td>...<\/td>\n",
              "    <\/tr>\n",
              "    <tr>\n",
              "      <th>7634<\/th>\n",
              "      <td>s7633<\/td>\n",
              "      <td>Movie<\/td>\n",
              "      <td>Wine Country<\/td>\n",
              "      <td>Amy Poehler<\/td>\n",
              "      <td>Amy Poehler, Maya Rudolph, Ana Gasteyer, Rache...<\/td>\n",
              "      <td>United States<\/td>\n",
              "      <td>May 10, 2019<\/td>\n",
              "      <td>R<\/td>\n",
              "      <td>104 min<\/td>\n",
              "      <td>Comedies<\/td>\n",
              "      <td>When longtime friends meet up for a wine-soake...<\/td>\n",
              "      <td>2019-05-10<\/td>\n",
              "      <td>2019.0<\/td>\n",
              "    <\/tr>\n",
              "    <tr>\n",
              "      <th>7649<\/th>\n",
              "      <td>s7648<\/td>\n",
              "      <td>Movie<\/td>\n",
              "      <td>Without Gorky<\/td>\n",
              "      <td>Cosima Spender<\/td>\n",
              "      <td>NaN<\/td>\n",
              "      <td>United Kingdom<\/td>\n",
              "      <td>May 31, 2017<\/td>\n",
              "      <td>TV-14<\/td>\n",
              "      <td>80 min<\/td>\n",
              "      <td>Documentaries<\/td>\n",
              "      <td>A filmmaker trains the camera on her own famil...<\/td>\n",
              "      <td>2017-05-31<\/td>\n",
              "      <td>2017.0<\/td>\n",
              "    <\/tr>\n",
              "    <tr>\n",
              "      <th>7664<\/th>\n",
              "      <td>s7663<\/td>\n",
              "      <td>Movie<\/td>\n",
              "      <td>Work It<\/td>\n",
              "      <td>Laura Terruso<\/td>\n",
              "      <td>Sabrina Carpenter, Jordan Fisher, Liza Koshy, ...<\/td>\n",
              "      <td>United States<\/td>\n",
              "      <td>August 7, 2020<\/td>\n",
              "      <td>TV-14<\/td>\n",
              "      <td>94 min<\/td>\n",
              "      <td>Comedies<\/td>\n",
              "      <td>A brilliant but clumsy high school senior vows...<\/td>\n",
              "      <td>2020-08-07<\/td>\n",
              "      <td>2020.0<\/td>\n",
              "    <\/tr>\n",
              "    <tr>\n",
              "      <th>7688<\/th>\n",
              "      <td>s7687<\/td>\n",
              "      <td>Movie<\/td>\n",
              "      <td>XV: Beyond the Tryline<\/td>\n",
              "      <td>Pierre Deschamps<\/td>\n",
              "      <td>NaN<\/td>\n",
              "      <td>United Kingdom<\/td>\n",
              "      <td>March 18, 2020<\/td>\n",
              "      <td>TV-14<\/td>\n",
              "      <td>91 min<\/td>\n",
              "      <td>Documentaries, Sports Movies<\/td>\n",
              "      <td>Set against the 2015 Rugby World Cup, this doc...<\/td>\n",
              "      <td>2020-03-18<\/td>\n",
              "      <td>2020.0<\/td>\n",
              "    <\/tr>\n",
              "    <tr>\n",
              "      <th>7725<\/th>\n",
              "      <td>s7724<\/td>\n",
              "      <td>Movie<\/td>\n",
              "      <td>You Can Tutu<\/td>\n",
              "      <td>James Brown<\/td>\n",
              "      <td>Lily O'Regan, Jeannettsy Enriquez Borges, Joel...<\/td>\n",
              "      <td>United Kingdom<\/td>\n",
              "      <td>December 31, 2017<\/td>\n",
              "      <td>TV-G<\/td>\n",
              "      <td>87 min<\/td>\n",
              "      <td>Children &amp; Family Movies<\/td>\n",
              "      <td>A gifted young ballet dancer struggles to find...<\/td>\n",
              "      <td>2017-12-31<\/td>\n",
              "      <td>2017.0<\/td>\n",
              "    <\/tr>\n",
              "  <\/tbody>\n",
              "<\/table>\n",
              "<p>281 rows × 13 columns<\/p>\n",
              "<\/div>"
            ]
          },
          "metadata":{
            
          },
          "output_type":"display_data"
        }
      ],
      "metadata":{
        
      }
    },
    {
      "cell_type":"markdown",
      "source":[
        "Creating a new dataframe that contains no missing values."
      ],
      "attachments":{
        
      },
      "metadata":{
        
      }
    },
    {
      "cell_type":"code",
      "source":[
        "data_new = data.dropna()"
      ],
      "attachments":{
        
      },
      "execution_count":46,
      "outputs":[
        
      ],
      "metadata":{
        
      }
    },
    {
      "cell_type":"markdown",
      "source":[
        "Showing the movies in which Tom Cruise is cast."
      ],
      "attachments":{
        
      },
      "metadata":{
        
      }
    },
    {
      "cell_type":"code",
      "source":[
        "data_new[data_new[\"Cast\"].str.contains(\"Tom Cruise\")]"
      ],
      "attachments":{
        
      },
      "execution_count":48,
      "outputs":[
        {
          "data":{
            "text\/html":[
              "<div>\n",
              "<style scoped>\n",
              "    .dataframe tbody tr th:only-of-type {\n",
              "        vertical-align: middle;\n",
              "    }\n",
              "\n",
              "    .dataframe tbody tr th {\n",
              "        vertical-align: top;\n",
              "    }\n",
              "\n",
              "    .dataframe thead th {\n",
              "        text-align: right;\n",
              "    }\n",
              "<\/style>\n",
              "<table border=\"1\" class=\"dataframe\">\n",
              "  <thead>\n",
              "    <tr style=\"text-align: right;\">\n",
              "      <th><\/th>\n",
              "      <th>Show_Id<\/th>\n",
              "      <th>Category<\/th>\n",
              "      <th>Title<\/th>\n",
              "      <th>Director<\/th>\n",
              "      <th>Cast<\/th>\n",
              "      <th>Country<\/th>\n",
              "      <th>Release_Date<\/th>\n",
              "      <th>Rating<\/th>\n",
              "      <th>Duration<\/th>\n",
              "      <th>Type<\/th>\n",
              "      <th>Description<\/th>\n",
              "      <th>date_N<\/th>\n",
              "      <th>Year<\/th>\n",
              "    <\/tr>\n",
              "  <\/thead>\n",
              "  <tbody>\n",
              "    <tr>\n",
              "      <th>3860<\/th>\n",
              "      <td>s3861<\/td>\n",
              "      <td>Movie<\/td>\n",
              "      <td>Magnolia<\/td>\n",
              "      <td>Paul Thomas Anderson<\/td>\n",
              "      <td>Jeremy Blackman, Tom Cruise, Melinda Dillon, A...<\/td>\n",
              "      <td>United States<\/td>\n",
              "      <td>January 1, 2020<\/td>\n",
              "      <td>R<\/td>\n",
              "      <td>189 min<\/td>\n",
              "      <td>Dramas, Independent Movies<\/td>\n",
              "      <td>Through chance, human action, past history and...<\/td>\n",
              "      <td>2020-01-01<\/td>\n",
              "      <td>2020.0<\/td>\n",
              "    <\/tr>\n",
              "    <tr>\n",
              "      <th>5071<\/th>\n",
              "      <td>s5071<\/td>\n",
              "      <td>Movie<\/td>\n",
              "      <td>Rain Man<\/td>\n",
              "      <td>Barry Levinson<\/td>\n",
              "      <td>Dustin Hoffman, Tom Cruise, Valeria Golino, Ge...<\/td>\n",
              "      <td>United States<\/td>\n",
              "      <td>July 1, 2019<\/td>\n",
              "      <td>R<\/td>\n",
              "      <td>134 min<\/td>\n",
              "      <td>Classic Movies, Dramas<\/td>\n",
              "      <td>A fast-talking yuppie is forced to slow down w...<\/td>\n",
              "      <td>2019-07-01<\/td>\n",
              "      <td>2019.0<\/td>\n",
              "    <\/tr>\n",
              "  <\/tbody>\n",
              "<\/table>\n",
              "<\/div>"
            ]
          },
          "metadata":{
            
          },
          "output_type":"display_data"
        }
      ],
      "metadata":{
        
      }
    },
    {
      "cell_type":"markdown",
      "source":[
        "Showing how many unique ratings the Rating column contains."
      ],
      "attachments":{
        
      },
      "metadata":{
        
      }
    },
    {
      "cell_type":"code",
      "source":[
        "data_new[\"Rating\"].nunique()"
      ],
      "attachments":{
        
      },
      "execution_count":50,
      "outputs":[
        {
          "data":{
            "text\/plain":[
              "14"
            ]
          },
          "metadata":{
            
          },
          "output_type":"display_data"
        }
      ],
      "metadata":{
        
      }
    },
    {
      "cell_type":"markdown",
      "source":[
        "Showing what unique types of ratings the Rating column contains."
      ],
      "attachments":{
        
      },
      "metadata":{
        
      }
    },
    {
      "cell_type":"code",
      "source":[
        "data_new[\"Rating\"].unique()"
      ],
      "attachments":{
        
      },
      "execution_count":51,
      "outputs":[
        {
          "data":{
            "text\/plain":[
              "array(['TV-MA', 'R', 'PG-13', 'TV-14', 'TV-G', 'TV-PG', 'NR', 'PG', 'G',\n",
              "       'TV-Y7', 'TV-Y', 'NC-17', 'TV-Y7-FV', 'UR'], dtype=object)"
            ]
          },
          "metadata":{
            
          },
          "output_type":"display_data"
        }
      ],
      "metadata":{
        
      }
    },
    {
      "cell_type":"markdown",
      "source":[
        "Showing the number of movies in canada that got the TV-14 rating."
      ],
      "attachments":{
        
      },
      "metadata":{
        
      }
    },
    {
      "cell_type":"code",
      "source":[
        "data_new[(data_new[\"Rating\"] == \"TV-14\") & (data_new[\"Country\"] == \"Canada\") & (data_new[\"Category\"] == \"Movie\")].shape[0]"
      ],
      "attachments":{
        
      },
      "execution_count":58,
      "outputs":[
        {
          "data":{
            "text\/plain":[
              "9"
            ]
          },
          "metadata":{
            
          },
          "output_type":"display_data"
        }
      ],
      "metadata":{
        
      }
    },
    {
      "cell_type":"markdown",
      "source":[
        "Showing the number of movies that were released from the year 2018 with an R rating."
      ],
      "attachments":{
        
      },
      "metadata":{
        
      }
    },
    {
      "cell_type":"code",
      "source":[
        "data_new[(data_new[\"Category\"] == \"Movie\") & (data_new[\"Rating\"] == \"R\") & (data_new[\"Year\"] > 2017)].shape[0]"
      ],
      "attachments":{
        
      },
      "execution_count":60,
      "outputs":[
        {
          "data":{
            "text\/plain":[
              "573"
            ]
          },
          "metadata":{
            
          },
          "output_type":"display_data"
        }
      ],
      "metadata":{
        
      }
    },
    {
      "cell_type":"markdown",
      "source":[
        "Showing all unique duration values in the Duration column."
      ],
      "attachments":{
        
      },
      "metadata":{
        
      }
    },
    {
      "cell_type":"code",
      "source":[
        "data_new[\"Duration\"].unique()"
      ],
      "attachments":{
        
      },
      "execution_count":61,
      "outputs":[
        {
          "data":{
            "text\/plain":[
              "array(['93 min', '78 min', '80 min', '123 min', '1 Season', '95 min',\n",
              "       '119 min', '118 min', '143 min', '103 min', '89 min', '91 min',\n",
              "       '149 min', '144 min', '124 min', '110 min', '128 min', '117 min',\n",
              "       '100 min', '99 min', '102 min', '104 min', '105 min', '125 min',\n",
              "       '81 min', '97 min', '106 min', '107 min', '87 min', '109 min',\n",
              "       '101 min', '90 min', '113 min', '114 min', '130 min', '94 min',\n",
              "       '140 min', '135 min', '82 min', '70 min', '92 min', '164 min',\n",
              "       '83 min', '116 min', '84 min', '86 min', '120 min', '96 min',\n",
              "       '126 min', '75 min', '129 min', '77 min', '137 min', '148 min',\n",
              "       '121 min', '122 min', '176 min', '85 min', '22 min', '68 min',\n",
              "       '111 min', '29 min', '142 min', '168 min', '59 min', '108 min',\n",
              "       '44 min', '26 min', '156 min', '98 min', '57 min', '150 min',\n",
              "       '133 min', '115 min', '154 min', '127 min', '146 min', '136 min',\n",
              "       '88 min', '131 min', '2 Seasons', '24 min', '112 min', '74 min',\n",
              "       '63 min', '174 min', '60 min', '153 min', '158 min', '151 min',\n",
              "       '162 min', '54 min', '51 min', '69 min', '64 min', '147 min',\n",
              "       '42 min', '79 min', '45 min', '172 min', '53 min', '163 min',\n",
              "       '55 min', '61 min', '71 min', '160 min', '171 min', '30 min',\n",
              "       '48 min', '139 min', '157 min', '15 min', '72 min', '134 min',\n",
              "       '161 min', '62 min', '8 Seasons', '186 min', '49 min', '73 min',\n",
              "       '58 min', '65 min', '165 min', '159 min', '141 min', '132 min',\n",
              "       '166 min', '76 min', '25 min', '56 min', '138 min', '67 min',\n",
              "       '28 min', '66 min', '180 min', '47 min', '155 min', '14 min',\n",
              "       '177 min', '9 Seasons', '46 min', '145 min', '6 Seasons', '8 min',\n",
              "       '12 min', '52 min', '5 Seasons', '43 min', '4 Seasons', '185 min',\n",
              "       '200 min', '169 min', '27 min', '170 min', '196 min', '33 min',\n",
              "       '181 min', '32 min', '167 min', '179 min', '3 Seasons', '193 min',\n",
              "       '214 min', '173 min', '192 min', '209 min', '187 min', '41 min',\n",
              "       '182 min', '23 min', '224 min', '37 min', '35 min', '20 min',\n",
              "       '50 min', '189 min', '152 min', '38 min', '208 min', '237 min',\n",
              "       '31 min', '178 min', '194 min', '228 min', '195 min', '15 Seasons',\n",
              "       '18 min', '205 min', '201 min', '40 min', '253 min', '190 min',\n",
              "       '17 min', '203 min', '191 min'], dtype=object)"
            ]
          },
          "metadata":{
            
          },
          "output_type":"display_data"
        }
      ],
      "metadata":{
        
      }
    },
    {
      "cell_type":"markdown",
      "source":[
        "Creaing two new columns by splitting the Duration column. The Value column contains either the number of minutes of a movie or the number of seasons of a tv-show. The Unit column contains the unit of the value (either minutes or seasons). By setting expand to True, the columns will be added to the dataframe."
      ],
      "attachments":{
        
      },
      "metadata":{
        
      }
    },
    {
      "cell_type":"code",
      "source":[
        "data_new[[\"Value\", \"Unit\"]] = data_new[\"Duration\"].str.split(' ', expand=True)"
      ],
      "attachments":{
        
      },
      "execution_count":68,
      "outputs":[
        
      ],
      "metadata":{
        
      }
    },
    {
      "cell_type":"code",
      "source":[
        "data_new[\"Value\"] = pd.to_numeric(data_new[\"Value\"])"
      ],
      "attachments":{
        
      },
      "execution_count":79,
      "outputs":[
        
      ],
      "metadata":{
        
      }
    },
    {
      "cell_type":"markdown",
      "source":[
        
      ],
      "attachments":{
        
      },
      "metadata":{
        
      }
    },
    {
      "cell_type":"markdown",
      "source":[
        "Showing the minimum value as extracted from the Duration column. 1 refers to the number of seasons, not number of minutes."
      ],
      "attachments":{
        
      },
      "metadata":{
        
      }
    },
    {
      "cell_type":"code",
      "source":[
        "data_new[\"Value\"].min()"
      ],
      "attachments":{
        
      },
      "execution_count":80,
      "outputs":[
        {
          "data":{
            "text\/plain":[
              "1"
            ]
          },
          "metadata":{
            
          },
          "output_type":"display_data"
        }
      ],
      "metadata":{
        
      }
    },
    {
      "cell_type":"markdown",
      "source":[
        "Showing the maximum number of minutes."
      ],
      "attachments":{
        
      },
      "metadata":{
        
      }
    },
    {
      "cell_type":"code",
      "source":[
        "data_new[\"Value\"].max()"
      ],
      "attachments":{
        
      },
      "execution_count":82,
      "outputs":[
        {
          "data":{
            "text\/plain":[
              "253"
            ]
          },
          "metadata":{
            
          },
          "output_type":"display_data"
        }
      ],
      "metadata":{
        
      }
    },
    {
      "cell_type":"markdown",
      "source":[
        "Showing the mean value for the minute duration. The average duration of a movie is around 99 minutes."
      ],
      "attachments":{
        
      },
      "metadata":{
        
      }
    },
    {
      "cell_type":"code",
      "source":[
        "data_new[\"Value\"].mean()"
      ],
      "attachments":{
        
      },
      "execution_count":83,
      "outputs":[
        {
          "data":{
            "text\/plain":[
              "99.55957579538365"
            ]
          },
          "metadata":{
            
          },
          "output_type":"display_data"
        }
      ],
      "metadata":{
        
      }
    },
    {
      "cell_type":"markdown",
      "source":[
        "Creating a new dataframe that contains only tv-shows."
      ],
      "attachments":{
        
      },
      "metadata":{
        
      }
    },
    {
      "cell_type":"code",
      "source":[
        "data_tvshow = data_new[data_new[\"Category\"] == \"TV Show\"]"
      ],
      "attachments":{
        
      },
      "execution_count":89,
      "outputs":[
        
      ],
      "metadata":{
        
      }
    },
    {
      "cell_type":"markdown",
      "source":[
        "Showing the country with the highest number of tv-shows."
      ],
      "attachments":{
        
      },
      "metadata":{
        
      }
    },
    {
      "cell_type":"code",
      "source":[
        "data_tvshow.Country.value_counts().head(1)"
      ],
      "attachments":{
        
      },
      "execution_count":92,
      "outputs":[
        {
          "data":{
            "text\/plain":[
              "United States    27\n",
              "Name: Country, dtype: int64"
            ]
          },
          "metadata":{
            
          },
          "output_type":"display_data"
        }
      ],
      "metadata":{
        
      }
    },
    {
      "cell_type":"markdown",
      "source":[
        "Sorting the data by year in ascending order."
      ],
      "attachments":{
        
      },
      "metadata":{
        
      }
    },
    {
      "cell_type":"code",
      "source":[
        "data_new.sort_values(by = \"Year\")"
      ],
      "attachments":{
        
      },
      "execution_count":93,
      "outputs":[
        {
          "data":{
            "text\/html":[
              "<div>\n",
              "<style scoped>\n",
              "    .dataframe tbody tr th:only-of-type {\n",
              "        vertical-align: middle;\n",
              "    }\n",
              "\n",
              "    .dataframe tbody tr th {\n",
              "        vertical-align: top;\n",
              "    }\n",
              "\n",
              "    .dataframe thead th {\n",
              "        text-align: right;\n",
              "    }\n",
              "<\/style>\n",
              "<table border=\"1\" class=\"dataframe\">\n",
              "  <thead>\n",
              "    <tr style=\"text-align: right;\">\n",
              "      <th><\/th>\n",
              "      <th>Show_Id<\/th>\n",
              "      <th>Category<\/th>\n",
              "      <th>Title<\/th>\n",
              "      <th>Director<\/th>\n",
              "      <th>Cast<\/th>\n",
              "      <th>Country<\/th>\n",
              "      <th>Release_Date<\/th>\n",
              "      <th>Rating<\/th>\n",
              "      <th>Duration<\/th>\n",
              "      <th>Type<\/th>\n",
              "      <th>Description<\/th>\n",
              "      <th>date_N<\/th>\n",
              "      <th>Year<\/th>\n",
              "      <th>Unit<\/th>\n",
              "      <th>Value<\/th>\n",
              "    <\/tr>\n",
              "  <\/thead>\n",
              "  <tbody>\n",
              "    <tr>\n",
              "      <th>7115<\/th>\n",
              "      <td>s7114<\/td>\n",
              "      <td>Movie<\/td>\n",
              "      <td>To and From New York<\/td>\n",
              "      <td>Sorin Dan Mihalcescu<\/td>\n",
              "      <td>Barbara King, Shaana Diya, John Krisiukenas, Y...<\/td>\n",
              "      <td>United States<\/td>\n",
              "      <td>January 1, 2008<\/td>\n",
              "      <td>TV-MA<\/td>\n",
              "      <td>81 min<\/td>\n",
              "      <td>Dramas, Independent Movies, Thrillers<\/td>\n",
              "      <td>While covering a story in New York City, a Sea...<\/td>\n",
              "      <td>2008-01-01<\/td>\n",
              "      <td>2008.0<\/td>\n",
              "      <td>min<\/td>\n",
              "      <td>81<\/td>\n",
              "    <\/tr>\n",
              "    <tr>\n",
              "      <th>5766<\/th>\n",
              "      <td>s5766<\/td>\n",
              "      <td>Movie<\/td>\n",
              "      <td>Splatter<\/td>\n",
              "      <td>Joe Dante<\/td>\n",
              "      <td>Corey Feldman, Tony Todd, Tara Leigh, Erin Way...<\/td>\n",
              "      <td>United States<\/td>\n",
              "      <td>November 18, 2009<\/td>\n",
              "      <td>TV-MA<\/td>\n",
              "      <td>29 min<\/td>\n",
              "      <td>Horror Movies<\/td>\n",
              "      <td>After committing suicide, a washed-up rocker r...<\/td>\n",
              "      <td>2009-11-18<\/td>\n",
              "      <td>2009.0<\/td>\n",
              "      <td>min<\/td>\n",
              "      <td>29<\/td>\n",
              "    <\/tr>\n",
              "    <tr>\n",
              "      <th>3248<\/th>\n",
              "      <td>s3249<\/td>\n",
              "      <td>Movie<\/td>\n",
              "      <td>Just Another Love Story<\/td>\n",
              "      <td>Ole Bornedal<\/td>\n",
              "      <td>Anders W. Berthelsen, Rebecka Hemse, Nikolaj L...<\/td>\n",
              "      <td>Denmark<\/td>\n",
              "      <td>May 5, 2009<\/td>\n",
              "      <td>TV-MA<\/td>\n",
              "      <td>104 min<\/td>\n",
              "      <td>Dramas, International Movies<\/td>\n",
              "      <td>When he causes a car accident that leaves a yo...<\/td>\n",
              "      <td>2009-05-05<\/td>\n",
              "      <td>2009.0<\/td>\n",
              "      <td>min<\/td>\n",
              "      <td>104<\/td>\n",
              "    <\/tr>\n",
              "    <tr>\n",
              "      <th>3840<\/th>\n",
              "      <td>s3841<\/td>\n",
              "      <td>Movie<\/td>\n",
              "      <td>Mad Ron's Prevues from Hell<\/td>\n",
              "      <td>Jim Monaco<\/td>\n",
              "      <td>Nick Pawlow, Jordu Schell, Jay Kushwara, Micha...<\/td>\n",
              "      <td>United States<\/td>\n",
              "      <td>November 1, 2010<\/td>\n",
              "      <td>NR<\/td>\n",
              "      <td>84 min<\/td>\n",
              "      <td>Cult Movies, Horror Movies<\/td>\n",
              "      <td>This collection cherry-picks trailers, forgott...<\/td>\n",
              "      <td>2010-11-01<\/td>\n",
              "      <td>2010.0<\/td>\n",
              "      <td>min<\/td>\n",
              "      <td>84<\/td>\n",
              "    <\/tr>\n",
              "    <tr>\n",
              "      <th>3221<\/th>\n",
              "      <td>s3222<\/td>\n",
              "      <td>Movie<\/td>\n",
              "      <td>Joseph: King of Dreams<\/td>\n",
              "      <td>Rob LaDuca, Robert C. Ramirez<\/td>\n",
              "      <td>Ben Affleck, Mark Hamill, Richard Herd, Mauree...<\/td>\n",
              "      <td>United States<\/td>\n",
              "      <td>September 27, 2011<\/td>\n",
              "      <td>TV-PG<\/td>\n",
              "      <td>75 min<\/td>\n",
              "      <td>Children &amp; Family Movies, Dramas, Faith &amp; Spir...<\/td>\n",
              "      <td>With his gift of dream interpretation and his ...<\/td>\n",
              "      <td>2011-09-27<\/td>\n",
              "      <td>2011.0<\/td>\n",
              "      <td>min<\/td>\n",
              "      <td>75<\/td>\n",
              "    <\/tr>\n",
              "    <tr>\n",
              "      <th>...<\/th>\n",
              "      <td>...<\/td>\n",
              "      <td>...<\/td>\n",
              "      <td>...<\/td>\n",
              "      <td>...<\/td>\n",
              "      <td>...<\/td>\n",
              "      <td>...<\/td>\n",
              "      <td>...<\/td>\n",
              "      <td>...<\/td>\n",
              "      <td>...<\/td>\n",
              "      <td>...<\/td>\n",
              "      <td>...<\/td>\n",
              "      <td>...<\/td>\n",
              "      <td>...<\/td>\n",
              "      <td>...<\/td>\n",
              "      <td>...<\/td>\n",
              "    <\/tr>\n",
              "    <tr>\n",
              "      <th>1426<\/th>\n",
              "      <td>s1427<\/td>\n",
              "      <td>Movie<\/td>\n",
              "      <td>Cloudy with a Chance of Meatballs<\/td>\n",
              "      <td>Phil Lord, Christopher Miller<\/td>\n",
              "      <td>Bill Hader, Anna Faris, James Caan, Andy Sambe...<\/td>\n",
              "      <td>United States<\/td>\n",
              "      <td>January 1, 2021<\/td>\n",
              "      <td>PG<\/td>\n",
              "      <td>90 min<\/td>\n",
              "      <td>Children &amp; Family Movies, Comedies, Sci-Fi &amp; F...<\/td>\n",
              "      <td>When inventor Flint Lockwood makes clouds rain...<\/td>\n",
              "      <td>2021-01-01<\/td>\n",
              "      <td>2021.0<\/td>\n",
              "      <td>min<\/td>\n",
              "      <td>90<\/td>\n",
              "    <\/tr>\n",
              "    <tr>\n",
              "      <th>1739<\/th>\n",
              "      <td>s1740<\/td>\n",
              "      <td>Movie<\/td>\n",
              "      <td>Dhobi Ghat (Mumbai Diaries)<\/td>\n",
              "      <td>Kiran Rao<\/td>\n",
              "      <td>Aamir Khan, Monica Dogra, Kriti Malhotra, Prat...<\/td>\n",
              "      <td>India<\/td>\n",
              "      <td>January 10, 2021<\/td>\n",
              "      <td>TV-MA<\/td>\n",
              "      <td>102 min<\/td>\n",
              "      <td>Dramas, International Movies<\/td>\n",
              "      <td>In this intimate drama, circumstances draw tog...<\/td>\n",
              "      <td>2021-01-10<\/td>\n",
              "      <td>2021.0<\/td>\n",
              "      <td>min<\/td>\n",
              "      <td>102<\/td>\n",
              "    <\/tr>\n",
              "    <tr>\n",
              "      <th>7553<\/th>\n",
              "      <td>s7552<\/td>\n",
              "      <td>Movie<\/td>\n",
              "      <td>What Happened to Mr. Cha?<\/td>\n",
              "      <td>Kim Dong-kyu<\/td>\n",
              "      <td>Cha In-pyo, Cho Dal-hwan, Song Jae-ryong<\/td>\n",
              "      <td>South Korea<\/td>\n",
              "      <td>January 1, 2021<\/td>\n",
              "      <td>TV-MA<\/td>\n",
              "      <td>102 min<\/td>\n",
              "      <td>Comedies, International Movies<\/td>\n",
              "      <td>With the peak of his career long behind him, a...<\/td>\n",
              "      <td>2021-01-01<\/td>\n",
              "      <td>2021.0<\/td>\n",
              "      <td>min<\/td>\n",
              "      <td>102<\/td>\n",
              "    <\/tr>\n",
              "    <tr>\n",
              "      <th>2479<\/th>\n",
              "      <td>s2480<\/td>\n",
              "      <td>Movie<\/td>\n",
              "      <td>Good Hair<\/td>\n",
              "      <td>Jeff Stilson<\/td>\n",
              "      <td>Chris Rock, Nia Long, Maya Angelou, Ice-T, Eve...<\/td>\n",
              "      <td>United States<\/td>\n",
              "      <td>January 1, 2021<\/td>\n",
              "      <td>PG-13<\/td>\n",
              "      <td>96 min<\/td>\n",
              "      <td>Documentaries<\/td>\n",
              "      <td>Chris Rock hops around the world going from be...<\/td>\n",
              "      <td>2021-01-01<\/td>\n",
              "      <td>2021.0<\/td>\n",
              "      <td>min<\/td>\n",
              "      <td>96<\/td>\n",
              "    <\/tr>\n",
              "    <tr>\n",
              "      <th>3237<\/th>\n",
              "      <td>s3238<\/td>\n",
              "      <td>Movie<\/td>\n",
              "      <td>Julie &amp; Julia<\/td>\n",
              "      <td>Nora Ephron<\/td>\n",
              "      <td>Meryl Streep, Amy Adams, Stanley Tucci, Chris ...<\/td>\n",
              "      <td>United States<\/td>\n",
              "      <td>January 1, 2021<\/td>\n",
              "      <td>PG-13<\/td>\n",
              "      <td>123 min<\/td>\n",
              "      <td>Comedies, Dramas<\/td>\n",
              "      <td>In this heartwarming tale, Julie Powell decide...<\/td>\n",
              "      <td>2021-01-01<\/td>\n",
              "      <td>2021.0<\/td>\n",
              "      <td>min<\/td>\n",
              "      <td>123<\/td>\n",
              "    <\/tr>\n",
              "  <\/tbody>\n",
              "<\/table>\n",
              "<p>4809 rows × 15 columns<\/p>\n",
              "<\/div>"
            ]
          },
          "metadata":{
            
          },
          "output_type":"display_data"
        }
      ],
      "metadata":{
        
      }
    },
    {
      "cell_type":"markdown",
      "source":[
        "Sorting the data by duration in descending order. The longest movies will appear at the top."
      ],
      "attachments":{
        
      },
      "metadata":{
        
      }
    },
    {
      "cell_type":"code",
      "source":[
        "data_new.sort_values(by = \"Value\", ascending=False)"
      ],
      "attachments":{
        
      },
      "execution_count":95,
      "outputs":[
        {
          "data":{
            "text\/html":[
              "<div>\n",
              "<style scoped>\n",
              "    .dataframe tbody tr th:only-of-type {\n",
              "        vertical-align: middle;\n",
              "    }\n",
              "\n",
              "    .dataframe tbody tr th {\n",
              "        vertical-align: top;\n",
              "    }\n",
              "\n",
              "    .dataframe thead th {\n",
              "        text-align: right;\n",
              "    }\n",
              "<\/style>\n",
              "<table border=\"1\" class=\"dataframe\">\n",
              "  <thead>\n",
              "    <tr style=\"text-align: right;\">\n",
              "      <th><\/th>\n",
              "      <th>Show_Id<\/th>\n",
              "      <th>Category<\/th>\n",
              "      <th>Title<\/th>\n",
              "      <th>Director<\/th>\n",
              "      <th>Cast<\/th>\n",
              "      <th>Country<\/th>\n",
              "      <th>Release_Date<\/th>\n",
              "      <th>Rating<\/th>\n",
              "      <th>Duration<\/th>\n",
              "      <th>Type<\/th>\n",
              "      <th>Description<\/th>\n",
              "      <th>date_N<\/th>\n",
              "      <th>Year<\/th>\n",
              "      <th>Unit<\/th>\n",
              "      <th>Value<\/th>\n",
              "    <\/tr>\n",
              "  <\/thead>\n",
              "  <tbody>\n",
              "    <tr>\n",
              "      <th>6852<\/th>\n",
              "      <td>s6851<\/td>\n",
              "      <td>Movie<\/td>\n",
              "      <td>The School of Mischief<\/td>\n",
              "      <td>Houssam El-Din Mustafa<\/td>\n",
              "      <td>Suhair El-Babili, Adel Emam, Saeed Saleh, Youn...<\/td>\n",
              "      <td>Egypt<\/td>\n",
              "      <td>May 21, 2020<\/td>\n",
              "      <td>TV-14<\/td>\n",
              "      <td>253 min<\/td>\n",
              "      <td>Comedies, Dramas, International Movies<\/td>\n",
              "      <td>A high school teacher volunteers to transform ...<\/td>\n",
              "      <td>2020-05-21<\/td>\n",
              "      <td>2020.0<\/td>\n",
              "      <td>min<\/td>\n",
              "      <td>253<\/td>\n",
              "    <\/tr>\n",
              "    <tr>\n",
              "      <th>4490<\/th>\n",
              "      <td>s4491<\/td>\n",
              "      <td>Movie<\/td>\n",
              "      <td>No Longer kids<\/td>\n",
              "      <td>Samir Al Asfory<\/td>\n",
              "      <td>Said Saleh, Hassan Moustafa, Ahmed Zaki, Youne...<\/td>\n",
              "      <td>Egypt<\/td>\n",
              "      <td>May 21, 2020<\/td>\n",
              "      <td>TV-14<\/td>\n",
              "      <td>237 min<\/td>\n",
              "      <td>Comedies, Dramas, International Movies<\/td>\n",
              "      <td>Hoping to prevent their father from skipping t...<\/td>\n",
              "      <td>2020-05-21<\/td>\n",
              "      <td>2020.0<\/td>\n",
              "      <td>min<\/td>\n",
              "      <td>237<\/td>\n",
              "    <\/tr>\n",
              "    <tr>\n",
              "      <th>5377<\/th>\n",
              "      <td>s5377<\/td>\n",
              "      <td>Movie<\/td>\n",
              "      <td>Sangam<\/td>\n",
              "      <td>Raj Kapoor<\/td>\n",
              "      <td>Raj Kapoor, Vyjayanthimala, Rajendra Kumar, La...<\/td>\n",
              "      <td>India<\/td>\n",
              "      <td>December 31, 2019<\/td>\n",
              "      <td>TV-14<\/td>\n",
              "      <td>228 min<\/td>\n",
              "      <td>Classic Movies, Dramas, International Movies<\/td>\n",
              "      <td>Returning home from war after being assumed de...<\/td>\n",
              "      <td>2019-12-31<\/td>\n",
              "      <td>2019.0<\/td>\n",
              "      <td>min<\/td>\n",
              "      <td>228<\/td>\n",
              "    <\/tr>\n",
              "    <tr>\n",
              "      <th>3521<\/th>\n",
              "      <td>s3522<\/td>\n",
              "      <td>Movie<\/td>\n",
              "      <td>Lagaan<\/td>\n",
              "      <td>Ashutosh Gowariker<\/td>\n",
              "      <td>Aamir Khan, Gracy Singh, Rachel Shelley, Paul ...<\/td>\n",
              "      <td>India<\/td>\n",
              "      <td>January 10, 2021<\/td>\n",
              "      <td>PG<\/td>\n",
              "      <td>224 min<\/td>\n",
              "      <td>Dramas, International Movies, Music &amp; Musicals<\/td>\n",
              "      <td>In 1890s India, an arrogant British commander ...<\/td>\n",
              "      <td>2021-01-10<\/td>\n",
              "      <td>2021.0<\/td>\n",
              "      <td>min<\/td>\n",
              "      <td>224<\/td>\n",
              "    <\/tr>\n",
              "    <tr>\n",
              "      <th>3195<\/th>\n",
              "      <td>s3196<\/td>\n",
              "      <td>Movie<\/td>\n",
              "      <td>Jodhaa Akbar<\/td>\n",
              "      <td>Ashutosh Gowariker<\/td>\n",
              "      <td>Hrithik Roshan, Aishwarya Rai Bachchan, Sonu S...<\/td>\n",
              "      <td>India<\/td>\n",
              "      <td>October 1, 2018<\/td>\n",
              "      <td>TV-14<\/td>\n",
              "      <td>214 min<\/td>\n",
              "      <td>Action &amp; Adventure, Dramas, International Movies<\/td>\n",
              "      <td>In 16th-century India, what begins as a strate...<\/td>\n",
              "      <td>2018-10-01<\/td>\n",
              "      <td>2018.0<\/td>\n",
              "      <td>min<\/td>\n",
              "      <td>214<\/td>\n",
              "    <\/tr>\n",
              "    <tr>\n",
              "      <th>...<\/th>\n",
              "      <td>...<\/td>\n",
              "      <td>...<\/td>\n",
              "      <td>...<\/td>\n",
              "      <td>...<\/td>\n",
              "      <td>...<\/td>\n",
              "      <td>...<\/td>\n",
              "      <td>...<\/td>\n",
              "      <td>...<\/td>\n",
              "      <td>...<\/td>\n",
              "      <td>...<\/td>\n",
              "      <td>...<\/td>\n",
              "      <td>...<\/td>\n",
              "      <td>...<\/td>\n",
              "      <td>...<\/td>\n",
              "      <td>...<\/td>\n",
              "    <\/tr>\n",
              "    <tr>\n",
              "      <th>3118<\/th>\n",
              "      <td>s3119<\/td>\n",
              "      <td>TV Show<\/td>\n",
              "      <td>James Acaster: Repertoire<\/td>\n",
              "      <td>Dan Lucchesi<\/td>\n",
              "      <td>James Acaster<\/td>\n",
              "      <td>United Kingdom<\/td>\n",
              "      <td>March 27, 2018<\/td>\n",
              "      <td>TV-14<\/td>\n",
              "      <td>1 Season<\/td>\n",
              "      <td>British TV Shows, International TV Shows, Stan...<\/td>\n",
              "      <td>Offbeat comic James Acaster covers the strange...<\/td>\n",
              "      <td>2018-03-27<\/td>\n",
              "      <td>2018.0<\/td>\n",
              "      <td>Season<\/td>\n",
              "      <td>1<\/td>\n",
              "    <\/tr>\n",
              "    <tr>\n",
              "      <th>5163<\/th>\n",
              "      <td>s5163<\/td>\n",
              "      <td>TV Show<\/td>\n",
              "      <td>Reply 1994<\/td>\n",
              "      <td>Shin Won-ho<\/td>\n",
              "      <td>Go Ara, Jung Woo, Sung Dong-il, Dohee, Son Ho-...<\/td>\n",
              "      <td>South Korea<\/td>\n",
              "      <td>August 8, 2019<\/td>\n",
              "      <td>TV-MA<\/td>\n",
              "      <td>1 Season<\/td>\n",
              "      <td>International TV Shows, Korean TV Shows, Roman...<\/td>\n",
              "      <td>All hailing from various parts of Korea, a gro...<\/td>\n",
              "      <td>2019-08-08<\/td>\n",
              "      <td>2019.0<\/td>\n",
              "      <td>Season<\/td>\n",
              "      <td>1<\/td>\n",
              "    <\/tr>\n",
              "    <tr>\n",
              "      <th>5164<\/th>\n",
              "      <td>s5164<\/td>\n",
              "      <td>TV Show<\/td>\n",
              "      <td>Reply 1997<\/td>\n",
              "      <td>Shin Won-ho<\/td>\n",
              "      <td>Jung Eun-ji, Seo In-guk, Shin So-yul, Ji-won E...<\/td>\n",
              "      <td>South Korea<\/td>\n",
              "      <td>August 8, 2019<\/td>\n",
              "      <td>TV-MA<\/td>\n",
              "      <td>1 Season<\/td>\n",
              "      <td>International TV Shows, Korean TV Shows, Roman...<\/td>\n",
              "      <td>As a teen, Shi Won was obsessed with a boy ban...<\/td>\n",
              "      <td>2019-08-08<\/td>\n",
              "      <td>2019.0<\/td>\n",
              "      <td>Season<\/td>\n",
              "      <td>1<\/td>\n",
              "    <\/tr>\n",
              "    <tr>\n",
              "      <th>3119<\/th>\n",
              "      <td>s3120<\/td>\n",
              "      <td>TV Show<\/td>\n",
              "      <td>Jamtara - Sabka Number Ayega<\/td>\n",
              "      <td>Soumendra Padhi<\/td>\n",
              "      <td>Amit Sial, Dibyendu Bhattacharya, Aksha Pardha...<\/td>\n",
              "      <td>India<\/td>\n",
              "      <td>January 10, 2020<\/td>\n",
              "      <td>TV-MA<\/td>\n",
              "      <td>1 Season<\/td>\n",
              "      <td>Crime TV Shows, International TV Shows, TV Dramas<\/td>\n",
              "      <td>A group of small-town young men run a lucrativ...<\/td>\n",
              "      <td>2020-01-10<\/td>\n",
              "      <td>2020.0<\/td>\n",
              "      <td>Season<\/td>\n",
              "      <td>1<\/td>\n",
              "    <\/tr>\n",
              "    <tr>\n",
              "      <th>1534<\/th>\n",
              "      <td>s1535<\/td>\n",
              "      <td>TV Show<\/td>\n",
              "      <td>Crime Diaries: Night Out<\/td>\n",
              "      <td>Felipe Cano<\/td>\n",
              "      <td>Sebastián Osorio, Fabiana Medina, Laura Osma, ...<\/td>\n",
              "      <td>Mexico<\/td>\n",
              "      <td>May 3, 2019<\/td>\n",
              "      <td>TV-MA<\/td>\n",
              "      <td>1 Season<\/td>\n",
              "      <td>Crime TV Shows, International TV Shows, Spanis...<\/td>\n",
              "      <td>After going to a Halloween party, college stud...<\/td>\n",
              "      <td>2019-05-03<\/td>\n",
              "      <td>2019.0<\/td>\n",
              "      <td>Season<\/td>\n",
              "      <td>1<\/td>\n",
              "    <\/tr>\n",
              "  <\/tbody>\n",
              "<\/table>\n",
              "<p>4809 rows × 15 columns<\/p>\n",
              "<\/div>"
            ]
          },
          "metadata":{
            
          },
          "output_type":"display_data"
        }
      ],
      "metadata":{
        
      }
    },
    {
      "cell_type":"markdown",
      "source":[
        "Showing either drama movies or kids' tv-shows."
      ],
      "attachments":{
        
      },
      "metadata":{
        
      }
    },
    {
      "cell_type":"code",
      "source":[
        "data_new[((data_new[\"Category\"] == \"Movie\") & (data_new[\"Type\"].isin([\"Dramas\"]))) | ((data_new[\"Category\"] == \"TV Show\") & (data_new[\"Type\"].isin([\"Kids' TV\"])))]"
      ],
      "attachments":{
        
      },
      "execution_count":97,
      "outputs":[
        {
          "data":{
            "text\/html":[
              "<div>\n",
              "<style scoped>\n",
              "    .dataframe tbody tr th:only-of-type {\n",
              "        vertical-align: middle;\n",
              "    }\n",
              "\n",
              "    .dataframe tbody tr th {\n",
              "        vertical-align: top;\n",
              "    }\n",
              "\n",
              "    .dataframe thead th {\n",
              "        text-align: right;\n",
              "    }\n",
              "<\/style>\n",
              "<table border=\"1\" class=\"dataframe\">\n",
              "  <thead>\n",
              "    <tr style=\"text-align: right;\">\n",
              "      <th><\/th>\n",
              "      <th>Show_Id<\/th>\n",
              "      <th>Category<\/th>\n",
              "      <th>Title<\/th>\n",
              "      <th>Director<\/th>\n",
              "      <th>Cast<\/th>\n",
              "      <th>Country<\/th>\n",
              "      <th>Release_Date<\/th>\n",
              "      <th>Rating<\/th>\n",
              "      <th>Duration<\/th>\n",
              "      <th>Type<\/th>\n",
              "      <th>Description<\/th>\n",
              "      <th>date_N<\/th>\n",
              "      <th>Year<\/th>\n",
              "      <th>Unit<\/th>\n",
              "      <th>Value<\/th>\n",
              "    <\/tr>\n",
              "  <\/thead>\n",
              "  <tbody>\n",
              "    <tr>\n",
              "      <th>4<\/th>\n",
              "      <td>s5<\/td>\n",
              "      <td>Movie<\/td>\n",
              "      <td>21<\/td>\n",
              "      <td>Robert Luketic<\/td>\n",
              "      <td>Jim Sturgess, Kevin Spacey, Kate Bosworth, Aar...<\/td>\n",
              "      <td>United States<\/td>\n",
              "      <td>January 1, 2020<\/td>\n",
              "      <td>PG-13<\/td>\n",
              "      <td>123 min<\/td>\n",
              "      <td>Dramas<\/td>\n",
              "      <td>A brilliant group of students become card-coun...<\/td>\n",
              "      <td>2020-01-01<\/td>\n",
              "      <td>2020.0<\/td>\n",
              "      <td>min<\/td>\n",
              "      <td>123<\/td>\n",
              "    <\/tr>\n",
              "    <tr>\n",
              "      <th>7<\/th>\n",
              "      <td>s8<\/td>\n",
              "      <td>Movie<\/td>\n",
              "      <td>187<\/td>\n",
              "      <td>Kevin Reynolds<\/td>\n",
              "      <td>Samuel L. Jackson, John Heard, Kelly Rowan, Cl...<\/td>\n",
              "      <td>United States<\/td>\n",
              "      <td>November 1, 2019<\/td>\n",
              "      <td>R<\/td>\n",
              "      <td>119 min<\/td>\n",
              "      <td>Dramas<\/td>\n",
              "      <td>After one of his high school students attacks ...<\/td>\n",
              "      <td>2019-11-01<\/td>\n",
              "      <td>2019.0<\/td>\n",
              "      <td>min<\/td>\n",
              "      <td>119<\/td>\n",
              "    <\/tr>\n",
              "    <tr>\n",
              "      <th>170<\/th>\n",
              "      <td>s171<\/td>\n",
              "      <td>Movie<\/td>\n",
              "      <td>A Family Man<\/td>\n",
              "      <td>Mark Williams<\/td>\n",
              "      <td>Gerard Butler, Gretchen Mol, Alison Brie, Will...<\/td>\n",
              "      <td>Canada, United States<\/td>\n",
              "      <td>December 15, 2019<\/td>\n",
              "      <td>R<\/td>\n",
              "      <td>110 min<\/td>\n",
              "      <td>Dramas<\/td>\n",
              "      <td>A ruthless corporate headhunter battles his ri...<\/td>\n",
              "      <td>2019-12-15<\/td>\n",
              "      <td>2019.0<\/td>\n",
              "      <td>min<\/td>\n",
              "      <td>110<\/td>\n",
              "    <\/tr>\n",
              "    <tr>\n",
              "      <th>232<\/th>\n",
              "      <td>s233<\/td>\n",
              "      <td>Movie<\/td>\n",
              "      <td>A Stoning in Fulham County<\/td>\n",
              "      <td>Larry Elikann<\/td>\n",
              "      <td>Ken Olin, Jill Eikenberry, Maureen Mueller, Gr...<\/td>\n",
              "      <td>United States<\/td>\n",
              "      <td>October 1, 2011<\/td>\n",
              "      <td>TV-14<\/td>\n",
              "      <td>95 min<\/td>\n",
              "      <td>Dramas<\/td>\n",
              "      <td>After reckless teens kill an Amish child, a pr...<\/td>\n",
              "      <td>2011-10-01<\/td>\n",
              "      <td>2011.0<\/td>\n",
              "      <td>min<\/td>\n",
              "      <td>95<\/td>\n",
              "    <\/tr>\n",
              "    <tr>\n",
              "      <th>276<\/th>\n",
              "      <td>s277<\/td>\n",
              "      <td>TV Show<\/td>\n",
              "      <td>Abby Hatcher<\/td>\n",
              "      <td>Kyran Kelly<\/td>\n",
              "      <td>Macy Drouin, Wyatt White, Paul Sun-Hyung Lee, ...<\/td>\n",
              "      <td>United States, Canada<\/td>\n",
              "      <td>July 1, 2020<\/td>\n",
              "      <td>TV-Y<\/td>\n",
              "      <td>1 Season<\/td>\n",
              "      <td>Kids' TV<\/td>\n",
              "      <td>A big-hearted girl helps her Fuzzly friends wh...<\/td>\n",
              "      <td>2020-07-01<\/td>\n",
              "      <td>2020.0<\/td>\n",
              "      <td>Season<\/td>\n",
              "      <td>1<\/td>\n",
              "    <\/tr>\n",
              "    <tr>\n",
              "      <th>...<\/th>\n",
              "      <td>...<\/td>\n",
              "      <td>...<\/td>\n",
              "      <td>...<\/td>\n",
              "      <td>...<\/td>\n",
              "      <td>...<\/td>\n",
              "      <td>...<\/td>\n",
              "      <td>...<\/td>\n",
              "      <td>...<\/td>\n",
              "      <td>...<\/td>\n",
              "      <td>...<\/td>\n",
              "      <td>...<\/td>\n",
              "      <td>...<\/td>\n",
              "      <td>...<\/td>\n",
              "      <td>...<\/td>\n",
              "      <td>...<\/td>\n",
              "    <\/tr>\n",
              "    <tr>\n",
              "      <th>7422<\/th>\n",
              "      <td>s7421<\/td>\n",
              "      <td>Movie<\/td>\n",
              "      <td>Villain<\/td>\n",
              "      <td>Philip Barantini<\/td>\n",
              "      <td>Craig Fairbrass, George Russo, Robert Gleniste...<\/td>\n",
              "      <td>United Kingdom<\/td>\n",
              "      <td>September 5, 2020<\/td>\n",
              "      <td>R<\/td>\n",
              "      <td>97 min<\/td>\n",
              "      <td>Dramas<\/td>\n",
              "      <td>Fresh out of prison, an ex-con tries to save h...<\/td>\n",
              "      <td>2020-09-05<\/td>\n",
              "      <td>2020.0<\/td>\n",
              "      <td>min<\/td>\n",
              "      <td>97<\/td>\n",
              "    <\/tr>\n",
              "    <tr>\n",
              "      <th>7449<\/th>\n",
              "      <td>s7448<\/td>\n",
              "      <td>Movie<\/td>\n",
              "      <td>VS.<\/td>\n",
              "      <td>Ed Lilly<\/td>\n",
              "      <td>Connor Swindells, Fola Evans-Akingbola, Nichol...<\/td>\n",
              "      <td>United Kingdom<\/td>\n",
              "      <td>June 19, 2019<\/td>\n",
              "      <td>TV-MA<\/td>\n",
              "      <td>99 min<\/td>\n",
              "      <td>Dramas<\/td>\n",
              "      <td>A young man in foster care finds his voice in ...<\/td>\n",
              "      <td>2019-06-19<\/td>\n",
              "      <td>2019.0<\/td>\n",
              "      <td>min<\/td>\n",
              "      <td>99<\/td>\n",
              "    <\/tr>\n",
              "    <tr>\n",
              "      <th>7465<\/th>\n",
              "      <td>s7464<\/td>\n",
              "      <td>Movie<\/td>\n",
              "      <td>Wakefield<\/td>\n",
              "      <td>Robin Swicord<\/td>\n",
              "      <td>Bryan Cranston, Jennifer Garner, Jason O'Mara,...<\/td>\n",
              "      <td>United States<\/td>\n",
              "      <td>March 2, 2019<\/td>\n",
              "      <td>R<\/td>\n",
              "      <td>109 min<\/td>\n",
              "      <td>Dramas<\/td>\n",
              "      <td>An unhappy father and lawyer quits his suburba...<\/td>\n",
              "      <td>2019-03-02<\/td>\n",
              "      <td>2019.0<\/td>\n",
              "      <td>min<\/td>\n",
              "      <td>109<\/td>\n",
              "    <\/tr>\n",
              "    <tr>\n",
              "      <th>7480<\/th>\n",
              "      <td>s7479<\/td>\n",
              "      <td>Movie<\/td>\n",
              "      <td>War Horse<\/td>\n",
              "      <td>Steven Spielberg<\/td>\n",
              "      <td>Emily Watson, David Thewlis, Peter Mullan, Nie...<\/td>\n",
              "      <td>United States, India<\/td>\n",
              "      <td>May 6, 2019<\/td>\n",
              "      <td>PG-13<\/td>\n",
              "      <td>147 min<\/td>\n",
              "      <td>Dramas<\/td>\n",
              "      <td>During World War I, the bond between a young E...<\/td>\n",
              "      <td>2019-05-06<\/td>\n",
              "      <td>2019.0<\/td>\n",
              "      <td>min<\/td>\n",
              "      <td>147<\/td>\n",
              "    <\/tr>\n",
              "    <tr>\n",
              "      <th>7668<\/th>\n",
              "      <td>s7667<\/td>\n",
              "      <td>TV Show<\/td>\n",
              "      <td>World of Winx<\/td>\n",
              "      <td>Iginio Straffi<\/td>\n",
              "      <td>Haven Paschall, Alysha Deslorieux, Jessica Paq...<\/td>\n",
              "      <td>Italy, United States<\/td>\n",
              "      <td>June 16, 2017<\/td>\n",
              "      <td>TV-Y7<\/td>\n",
              "      <td>2 Seasons<\/td>\n",
              "      <td>Kids' TV<\/td>\n",
              "      <td>The reality show \"WOW!\" engages the Winx in th...<\/td>\n",
              "      <td>2017-06-16<\/td>\n",
              "      <td>2017.0<\/td>\n",
              "      <td>Seasons<\/td>\n",
              "      <td>2<\/td>\n",
              "    <\/tr>\n",
              "  <\/tbody>\n",
              "<\/table>\n",
              "<p>118 rows × 15 columns<\/p>\n",
              "<\/div>"
            ]
          },
          "metadata":{
            
          },
          "output_type":"display_data"
        }
      ],
      "metadata":{
        
      }
    },
    {
      "cell_type":"markdown",
      "source":[
        "Showing a histogram of how the movie duration is distributed."
      ],
      "attachments":{
        
      },
      "metadata":{
        
      }
    },
    {
      "cell_type":"code",
      "source":[
        "data_new[data_new[\"Category\"] == \"Movie\"][\"Value\"].plot(kind=\"hist\")"
      ],
      "attachments":{
        
      },
      "execution_count":108,
      "outputs":[
        {
          "data":{
            "text\/plain":[
              "<AxesSubplot:ylabel='Frequency'>"
            ],
            "image\/png":"[encoded data removed]"
          },
          "metadata":{
            "image\/png":{
              "width":0,
              "height":0
            }
          },
          "output_type":"display_data"
        }
      ],
      "metadata":{
        
      }
    },
    {
      "cell_type":"code",
      "source":[
        
      ],
      "attachments":{
        
      },
      "execution_count":0,
      "outputs":[
        
      ],
      "metadata":{
        
      }
    }
  ],
  "metadata":{
    
  },
  "nbformat":4,
  "nbformat_minor":0
}